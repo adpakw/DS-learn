{
 "cells": [
  {
   "cell_type": "markdown",
   "metadata": {
    "id": "2rIeJvNmzPJy"
   },
   "source": [
    "# Градиентный спуск. Практика"
   ]
  },
  {
   "cell_type": "markdown",
   "metadata": {
    "id": "krXvdp0bzfJK"
   },
   "source": [
    "## Импорт библиотек, установка константных значений"
   ]
  },
  {
   "cell_type": "code",
   "execution_count": 1,
   "metadata": {
    "id": "X6AuQbUpziB8"
   },
   "outputs": [],
   "source": [
    "import pandas as pd\n",
    "import numpy as np\n",
    "\n",
    "from sklearn.datasets import make_regression, fetch_california_housing\n",
    "from sklearn.metrics import r2_score\n",
    "from sklearn.model_selection import train_test_split"
   ]
  },
  {
   "cell_type": "code",
   "execution_count": 2,
   "metadata": {
    "id": "47ZRimlw6TEp"
   },
   "outputs": [],
   "source": [
    "RANDOM_STATE = 123\n",
    "TRAIN_SIZE = 0.75"
   ]
  },
  {
   "cell_type": "code",
   "execution_count": 3,
   "metadata": {
    "colab": {
     "base_uri": "https://localhost:8080/"
    },
    "id": "as1sEBKJt_Yb",
    "outputId": "d428934e-8a13-457b-c5dc-b26349c25dd1"
   },
   "outputs": [
    {
     "data": {
      "text/plain": [
       "RandomState(MT19937) at 0x7F8B4B95F940"
      ]
     },
     "execution_count": 3,
     "metadata": {},
     "output_type": "execute_result"
    }
   ],
   "source": [
    "np.random.RandomState(RANDOM_STATE)"
   ]
  },
  {
   "cell_type": "code",
   "execution_count": 4,
   "metadata": {
    "id": "S6nTuMqGGqp2"
   },
   "outputs": [],
   "source": [
    "np.random.seed(RANDOM_STATE)\n",
    "\n",
    "X, y, _ = make_regression(\n",
    "    n_samples=100000,  # число объектов\n",
    "    n_features=10,  # число признаков\n",
    "    n_informative=8,  # число информативных признаков\n",
    "    noise=100,  # уровень шума в данных\n",
    "    coef=True,  # значение True используется при генерации данных\n",
    "    random_state=RANDOM_STATE,\n",
    ")\n",
    "\n",
    "X = pd.DataFrame(data=X, columns=np.arange(0, X.shape[1]))\n",
    "X[10] = X[6] + X[7] + np.random.random() * 0.01"
   ]
  },
  {
   "cell_type": "markdown",
   "metadata": {
    "id": "lm6_Ln0GoliG"
   },
   "source": [
    "\n",
    "Напишите функцию, вычисляющую значение весов в линейной регрессии по точной (аналитически найденной) формуле:\n",
    "\n",
    "$$w = (X^TX)^{-1}X^Ty$$\n",
    "\n",
    "Комментарий: для поиска решения в векторном виде сначала необходимо добавить единичный столбец к матрице $X$.\n",
    "Это сделано в коде."
   ]
  },
  {
   "cell_type": "code",
   "execution_count": null,
   "metadata": {
    "id": "ZrVvpU9miOga"
   },
   "outputs": [],
   "source": [
    "def ols_solution(X, y):\n",
    "    X = np.hstack((np.ones((X.shape[0], 1)), X))"
   ]
  },
  {
   "cell_type": "markdown",
   "metadata": {
    "id": "AMBKhU7Zhaev"
   },
   "source": [
    "Заполните функцию для предсказания модели по формуле\n",
    "$$a(X)=Xw$$"
   ]
  },
  {
   "cell_type": "code",
   "execution_count": null,
   "metadata": {
    "id": "CI63O1eUhmyx"
   },
   "outputs": [],
   "source": [
    "def prediction(X, w):\n",
    "    X = np.hstack((np.ones((X.shape[0], 1)), X))\n",
    "    # ваш код здесь\n",
    "    ..."
   ]
  },
  {
   "cell_type": "markdown",
   "metadata": {
    "id": "OaPciXsEmznh"
   },
   "source": [
    "Продублируем функцию для вычисления значения MSE из урока"
   ]
  },
  {
   "cell_type": "code",
   "execution_count": null,
   "metadata": {
    "id": "PqzBobT-m28D"
   },
   "outputs": [],
   "source": [
    "def compute_cost(X, y, theta):\n",
    "    m = len(y)\n",
    "    cost = (1.0 / m) * (np.linalg.norm(X @ theta - y) ** 2)\n",
    "    return cost"
   ]
  },
  {
   "cell_type": "markdown",
   "metadata": {
    "id": "VFANmcnV5DWz"
   },
   "source": [
    "Скопируйте метод градиентного спуска из [урока](https://colab.research.google.com/drive/1Bos0LeQP9AAB-nrS0z8b-8ag5xRSEdty?usp=sharing) в этот ноутбук.\n"
   ]
  },
  {
   "cell_type": "code",
   "execution_count": null,
   "metadata": {
    "id": "VB9oE8Sg1WG9"
   },
   "outputs": [],
   "source": [
    "# ваш код здесь\n",
    "..."
   ]
  },
  {
   "cell_type": "markdown",
   "metadata": {
    "id": "X_3A_UGWztbY"
   },
   "source": [
    "### Бонус для отважных"
   ]
  },
  {
   "cell_type": "markdown",
   "metadata": {
    "id": "GMujXdy75Lb2"
   },
   "source": [
    "Если чувствуете в себе силы, попробуйте написать SGD сами."
   ]
  },
  {
   "cell_type": "markdown",
   "metadata": {
    "id": "_shCsTQ1pVcU"
   },
   "source": [
    "Модифицируйте метод градиентного спуска из урока так, чтобы это теперь был метод стохастического градиентного спуска:\n",
    "\n",
    "* на каждой итерации выбирайте один случайный индекс `j` при помощи функции `random.randint`\n",
    "\n",
    "* градиент на каждой итерации градиентного спуска считайте не как сумму градиентов по всем объектам, а только по одному объекту с индексом `j`\n",
    "\n",
    "* на каждой итерации вычисляйте значение функции потерь и сохраняйте в список `cost_track`, который верните вместе с результатом работы функции"
   ]
  },
  {
   "cell_type": "code",
   "execution_count": null,
   "metadata": {
    "id": "fTZWxz1zpb9R"
   },
   "outputs": [],
   "source": [
    "import random\n",
    "\n",
    "def stochastic_gradient_descent(X, y, learning_rate, iterations):\n",
    "\n",
    "    X = np.hstack((np.ones((X.shape[0], 1)), X))\n",
    "    params = np.random.rand(X.shape[1])\n",
    "\n",
    "    j = 0\n",
    "\n",
    "    cost_track = np.zeros((iterations,1))\n",
    "\n",
    "    for i in range(iterations):\n",
    "\n",
    "        # выберите случайный индекс в диапазон от 0 до len(X)-1 включительно при помощи функции random.randint\n",
    "        j = # ваш код здесь\n",
    "\n",
    "        # обновите веса, используя сдвиг по градиенту только по объекту X[j] (делить на m в данном случае не нужно)\n",
    "        params = # ваш код здесь\n",
    "        cost_track[i] = compute_cost(X, y, params)\n",
    "\n",
    "    return cost_track, params"
   ]
  },
  {
   "cell_type": "markdown",
   "metadata": {
    "id": "WnRlUa9Npi9o"
   },
   "source": [
    "- Обучите линейную регрессию тремя методами (по точной формуле, с помощью GD и с помощью SGD) на данных для задачи регрессии ($X, y$). Для GD и самостоятельно написанного SGD используйте `learning_rate = 0.01, iterations = 10000`.\n",
    "\n",
    "*P.S. Если же вы используете не самописный SGD, а SGDRegressor из библиотеки sklearn.linear_model, то его объявляйте с гиперпараметрами по умолчанию, то есть в скобках при объявлении модели ничего не указывайте.*\n",
    "\n",
    "- С помощью каждого метода сделайте предсказание (на всех данных), вычислите качество предсказания r2 (`from sklearn.metrics import r2_score`). Для получения предсказания использовуйте функцию `predict`.\n"
   ]
  },
  {
   "cell_type": "code",
   "execution_count": null,
   "metadata": {
    "id": "2TkO2mh5ky0m"
   },
   "outputs": [],
   "source": [
    "# **План**\n",
    "\n",
    "# 1 - находим веса одним из методов\n",
    "\n",
    "# 2 - применяем функцию prediction для получения предсказаний с найденными весами (либо predict в случае использования SGDRegressor из библиотеки sklearn)\n",
    "\n",
    "# 3 - вычисляем значение метрики r2"
   ]
  },
  {
   "cell_type": "code",
   "execution_count": null,
   "metadata": {
    "id": "zer-Ar_ekU7q"
   },
   "outputs": [],
   "source": [
    "from sklearn.metrics import r2_score"
   ]
  },
  {
   "cell_type": "code",
   "execution_count": null,
   "metadata": {
    "id": "5cVilZVsmAys"
   },
   "outputs": [],
   "source": [
    "# your code for OLS here"
   ]
  },
  {
   "cell_type": "markdown",
   "metadata": {
    "id": "ezvQOKaEkaLX"
   },
   "source": [
    "## Quiz\n",
    "\n",
    "Чему равно значение метрики $R^2$ для аналитического подхода?\n",
    "\n",
    "Ответ округлите до сотых."
   ]
  },
  {
   "cell_type": "code",
   "execution_count": null,
   "metadata": {
    "id": "O_MDhoXs5tkd"
   },
   "outputs": [],
   "source": [
    "# your code for GD here"
   ]
  },
  {
   "cell_type": "markdown",
   "metadata": {
    "id": "HaasnKmj2Eje"
   },
   "source": [
    "## Quiz\n",
    "\n",
    "Нарисуйте траекторию уменьшения ошибки при обучении градиентного спуска (это параметр `cost_track`, возвращаемый функцией).\n",
    "\n",
    "Чему приблизительно равен loss модели на последних итерациях?\n",
    "\n",
    "Выберите наиболее близкий к полученному вами ответ."
   ]
  },
  {
   "cell_type": "code",
   "execution_count": null,
   "metadata": {
    "id": "CNTHJzS22QeT"
   },
   "outputs": [],
   "source": [
    "# your code here"
   ]
  },
  {
   "cell_type": "code",
   "execution_count": null,
   "metadata": {
    "id": "6yLEdtQOmCYL"
   },
   "outputs": [],
   "source": [
    "# your code for SGD here"
   ]
  },
  {
   "cell_type": "markdown",
   "metadata": {
    "id": "hE7jBuyWkePj"
   },
   "source": [
    "## Quiz\n",
    "\n",
    "Измерьте время работы аналитического подхода, а также GD и SGD (используйте magic command [`%%time`](https://ipython.readthedocs.io/en/stable/interactive/magics.html)).\n",
    "\n",
    "Упорядочите результаты по возрастанию."
   ]
  },
  {
   "cell_type": "markdown",
   "metadata": {
    "id": "7Lne3c3I1swS"
   },
   "source": [
    "## Тестирование моделей на реальных данных\n",
    "\n",
    "В реальных задачах никто не пишет методы с нуля, если они уже реализованы в python. Самостоятельная реализация методов полезна для получения навыков программирования и более глубокого понимания алгоритмов.\n",
    "\n",
    "Давайте применим уже готовые методы из `sklearn` для решения задачи регрессии."
   ]
  },
  {
   "cell_type": "code",
   "execution_count": null,
   "metadata": {
    "id": "qUhkRgYm1usp"
   },
   "outputs": [],
   "source": [
    "data = fetch_california_housing(as_frame=True)\n",
    "\n",
    "X = data.data\n",
    "y = data.target"
   ]
  },
  {
   "cell_type": "markdown",
   "metadata": {
    "id": "BlsxS_mb18A8"
   },
   "source": [
    "Разобъем данные на трейн и тест"
   ]
  },
  {
   "cell_type": "code",
   "execution_count": null,
   "metadata": {
    "id": "tKKC-nWE13ek"
   },
   "outputs": [],
   "source": [
    "X_train, X_test, y_train, y_test = train_test_split(\n",
    "    X, y, train_size=TRAIN_SIZE, random_state=RANDOM_STATE\n",
    ")"
   ]
  },
  {
   "cell_type": "markdown",
   "metadata": {
    "id": "1nxiq6Uq2K47"
   },
   "source": [
    "Для решения этой задачи попробуйте следующие модели:\n",
    "\n",
    "* `LinearRegression` из `sklearn`\n",
    "* `SGDRegressor` из `sklearn`\n",
    "\n",
    "Обучите модели на тренировочных данных с параметрами по умолчанию и сделайте предсказание на тесте.\n",
    "Вычислите значение $R^2$"
   ]
  },
  {
   "cell_type": "code",
   "execution_count": null,
   "metadata": {
    "id": "PdoNyLJy165x"
   },
   "outputs": [],
   "source": [
    "# ваш код здесь (Linear Regression)\n",
    "..."
   ]
  },
  {
   "cell_type": "markdown",
   "metadata": {
    "id": "hq6lwN9ZmNgL"
   },
   "source": [
    "## Quiz\n",
    "\n",
    "Чему равно значение $R^2$ для модели LinearRegression на тестовых данных?\n",
    "\n",
    "Ответ округлите до сотых."
   ]
  },
  {
   "cell_type": "code",
   "execution_count": null,
   "metadata": {
    "id": "atfZE2L0mNwz"
   },
   "outputs": [],
   "source": [
    "# ваш код здесь (SGD Regressor)\n",
    "..."
   ]
  },
  {
   "cell_type": "markdown",
   "metadata": {
    "id": "BH56-5XHl9qg"
   },
   "source": [
    "## Quiz\n",
    "\n",
    "Какая модель с параметрами по умолчанию лучше справилась с предсказанием стоимости домов в Калифорнии?"
   ]
  },
  {
   "cell_type": "markdown",
   "metadata": {
    "id": "W2yCxAIL37e7"
   },
   "source": [
    "## Quiz\n",
    "\n",
    "Проинтерпретируйте качество метода SGDRegressor. Выберите наиболее подходящий вариант."
   ]
  },
  {
   "cell_type": "code",
   "execution_count": null,
   "metadata": {
    "id": "ce6Fbt_l6HAU"
   },
   "outputs": [],
   "source": []
  }
 ],
 "metadata": {
  "colab": {
   "provenance": []
  },
  "kernelspec": {
   "display_name": "Python 3",
   "name": "python3"
  },
  "language_info": {
   "codemirror_mode": {
    "name": "ipython",
    "version": 3
   },
   "file_extension": ".py",
   "mimetype": "text/x-python",
   "name": "python",
   "nbconvert_exporter": "python",
   "pygments_lexer": "ipython3",
   "version": "3.10.12"
  }
 },
 "nbformat": 4,
 "nbformat_minor": 0
}
