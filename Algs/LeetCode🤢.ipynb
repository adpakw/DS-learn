{
  "nbformat": 4,
  "nbformat_minor": 0,
  "metadata": {
    "colab": {
      "provenance": [],
      "authorship_tag": "ABX9TyN5HQ8IaCPQWHhcRyvoeS7Q"
    },
    "kernelspec": {
      "name": "python3",
      "display_name": "Python 3"
    },
    "language_info": {
      "name": "python"
    }
  },
  "cells": [
    {
      "cell_type": "markdown",
      "source": [
        "https://leetcode.com/problems/group-anagrams/"
      ],
      "metadata": {
        "id": "VTA_j4klUw-u"
      }
    },
    {
      "cell_type": "code",
      "execution_count": 5,
      "metadata": {
        "colab": {
          "base_uri": "https://localhost:8080/"
        },
        "id": "W3J8CKllUpBb",
        "outputId": "bebadc3b-0cb2-4a0c-ede1-ce8d6acc8031"
      },
      "outputs": [
        {
          "output_type": "stream",
          "name": "stdout",
          "text": [
            "aet\n",
            "aet\n",
            "ant\n",
            "aet\n",
            "ant\n",
            "abt\n",
            "[['eat', 'tea', 'ate'], ['tan', 'nat'], ['bat']]\n"
          ]
        }
      ],
      "source": [
        "def groupAnagrams(strs):\n",
        "    anagrams = {}\n",
        "    for word in strs:\n",
        "        sorted_word = ''.join(sorted(word))\n",
        "        # print(sorted_word)\n",
        "        if sorted_word not in anagrams:\n",
        "            anagrams[sorted_word] = []\n",
        "        anagrams[sorted_word].append(word)\n",
        "    return list(anagrams.values())\n",
        "\n",
        "print(groupAnagrams([\"eat\",\"tea\",\"tan\",\"ate\",\"nat\",\"bat\"]))"
      ]
    }
  ]
}