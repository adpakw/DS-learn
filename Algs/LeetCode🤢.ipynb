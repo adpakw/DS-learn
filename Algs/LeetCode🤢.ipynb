{
  "nbformat": 4,
  "nbformat_minor": 0,
  "metadata": {
    "colab": {
      "provenance": [],
      "authorship_tag": "ABX9TyPSX6RUFRYHPkYXIt5tsmAo"
    },
    "kernelspec": {
      "name": "python3",
      "display_name": "Python 3"
    },
    "language_info": {
      "name": "python"
    }
  },
  "cells": [
    {
      "cell_type": "markdown",
      "source": [
        "https://leetcode.com/problems/valid-anagram/"
      ],
      "metadata": {
        "id": "vhzlVKpBkLI4"
      }
    },
    {
      "cell_type": "code",
      "source": [
        "def isAnagram(s, t):\n",
        "    if len(s)!=len(t):\n",
        "        return False\n",
        "\n",
        "    sdict = {}\n",
        "    tdict = {}\n",
        "\n",
        "    for i in range(len(s)):\n",
        "        sdict[s[i]] = sdict.get(s[i], 0) + 1\n",
        "        tdict[t[i]] = tdict.get(t[i], 0) + 1\n",
        "\n",
        "    for letter in sdict:\n",
        "        if sdict[letter] != tdict.get(letter, 0):\n",
        "            return False\n",
        "\n",
        "    return True\n",
        "\n",
        "isAnagram(\"anagram\", \"nagaram\")"
      ],
      "metadata": {
        "colab": {
          "base_uri": "https://localhost:8080/"
        },
        "id": "BQcsJ5OlkM_q",
        "outputId": "1724232b-ad38-42e6-fc2d-b553fa8f8fd8"
      },
      "execution_count": 11,
      "outputs": [
        {
          "output_type": "execute_result",
          "data": {
            "text/plain": [
              "True"
            ]
          },
          "metadata": {},
          "execution_count": 11
        }
      ]
    },
    {
      "cell_type": "markdown",
      "source": [
        "https://leetcode.com/problems/group-anagrams/"
      ],
      "metadata": {
        "id": "VTA_j4klUw-u"
      }
    },
    {
      "cell_type": "code",
      "execution_count": 5,
      "metadata": {
        "colab": {
          "base_uri": "https://localhost:8080/"
        },
        "id": "W3J8CKllUpBb",
        "outputId": "bebadc3b-0cb2-4a0c-ede1-ce8d6acc8031"
      },
      "outputs": [
        {
          "output_type": "stream",
          "name": "stdout",
          "text": [
            "aet\n",
            "aet\n",
            "ant\n",
            "aet\n",
            "ant\n",
            "abt\n",
            "[['eat', 'tea', 'ate'], ['tan', 'nat'], ['bat']]\n"
          ]
        }
      ],
      "source": [
        "def groupAnagrams(strs):\n",
        "    anagrams = {}\n",
        "    for word in strs:\n",
        "        sorted_word = ''.join(sorted(word))\n",
        "        # print(sorted_word)\n",
        "        if sorted_word not in anagrams:\n",
        "            anagrams[sorted_word] = []\n",
        "        anagrams[sorted_word].append(word)\n",
        "    return list(anagrams.values())\n",
        "\n",
        "print(groupAnagrams([\"eat\",\"tea\",\"tan\",\"ate\",\"nat\",\"bat\"]))"
      ]
    },
    {
      "cell_type": "markdown",
      "source": [
        "https://leetcode.com/problems/valid-palindrome/?__cf_chl_rt_tk=pW3mqOAhJOuNtC_91HIqreU92SkLhTUztVJ94dBA5uY-1711469618-0.0.1.1-1535"
      ],
      "metadata": {
        "id": "x3XiSk4jihna"
      }
    },
    {
      "cell_type": "code",
      "source": [
        "def isalnum_(c):\n",
        "    return ((ord('a') <= ord(c) <= ord('z')) or\n",
        "            (ord('0') <= ord(c) <= ord('9')))\n",
        "\n",
        "# def isPalindrome(s):\n",
        "#     s = s.lower()\n",
        "#     # s = ''.join(c for c in s if isalnum_(c))  мб понадобиться\n",
        "#     l_pointer = 0\n",
        "#     r_pointer = len(s) - 1\n",
        "#     while l_pointer < r_pointer:\n",
        "#         if not isalnum_(s[l_pointer]):\n",
        "#             l_pointer += 1\n",
        "#         elif not isalnum_(s[r_pointer]):\n",
        "#             r_pointer -= 1\n",
        "#         elif s[l_pointer] == s[r_pointer]:\n",
        "#             l_pointer += 1\n",
        "#             r_pointer -= 1\n",
        "#         else:\n",
        "#             return False\n",
        "#     return True\n",
        "\n",
        "def isPalindrome(s):\n",
        "    s = s.lower()\n",
        "    # s = ''.join(c for c in s if c.isalnum())\n",
        "    l_pointer = 0\n",
        "    r_pointer = len(s) - 1\n",
        "    while l_pointer < r_pointer:\n",
        "        while l_pointer < r_pointer and not s[l_pointer].isalnum():\n",
        "            l_pointer += 1\n",
        "        while l_pointer < r_pointer and not s[r_pointer].isalnum():\n",
        "            r_pointer -= 1\n",
        "        if s[l_pointer] != s[r_pointer]:\n",
        "            return False\n",
        "        l_pointer += 1\n",
        "        r_pointer -= 1\n",
        "    return True\n",
        "\n",
        "isPalindrome(\"A man, a plan, a canal: Panama\")\n"
      ],
      "metadata": {
        "colab": {
          "base_uri": "https://localhost:8080/"
        },
        "id": "lUHxeFmCi9E6",
        "outputId": "f28778c2-599c-4122-d3a8-b3c0818ff8cb"
      },
      "execution_count": 16,
      "outputs": [
        {
          "output_type": "execute_result",
          "data": {
            "text/plain": [
              "True"
            ]
          },
          "metadata": {},
          "execution_count": 16
        }
      ]
    },
    {
      "cell_type": "markdown",
      "source": [
        "https://leetcode.com/problems/two-sum-ii-input-array-is-sorted/description/"
      ],
      "metadata": {
        "id": "AWXUfLebvclz"
      }
    },
    {
      "cell_type": "code",
      "source": [
        "class Solution:\n",
        "    def twoSum(self, numbers: list[int], target: int) -> list[int]:\n",
        "        l_pointer = 0\n",
        "        r_pointer = len(numbers) - 1\n",
        "        while l_pointer < r_pointer:\n",
        "            summ = numbers[l_pointer] + numbers[r_pointer]\n",
        "            if summ < target:\n",
        "                l_pointer += 1\n",
        "            elif summ > target:\n",
        "                r_pointer -= 1\n",
        "            else:\n",
        "                return [l_pointer + 1, r_pointer + 1]\n",
        "\n",
        "Solution1 = Solution\n",
        "Solution1.twoSum(0, [2,7,11,15], 9)"
      ],
      "metadata": {
        "colab": {
          "base_uri": "https://localhost:8080/"
        },
        "id": "1SkdWJe9veXs",
        "outputId": "04dd3f4e-d658-474e-9b8f-f99d9185a47f"
      },
      "execution_count": 22,
      "outputs": [
        {
          "output_type": "execute_result",
          "data": {
            "text/plain": [
              "[1, 2]"
            ]
          },
          "metadata": {},
          "execution_count": 22
        }
      ]
    },
    {
      "cell_type": "markdown",
      "source": [
        "https://leetcode.com/problems/best-time-to-buy-and-sell-stock/description/"
      ],
      "metadata": {
        "id": "DoaTam9r0UEg"
      }
    },
    {
      "cell_type": "code",
      "source": [
        "class Solution:\n",
        "    def maxProfit(self, prices: List[int]) -> int:\n",
        "        buy = 0\n",
        "        sel = 1\n",
        "        max_profit = 0\n",
        "        while sel < len(prices):\n",
        "            if prices[buy] < prices[sel]:\n",
        "                max_profit = max(max_profit, prices[sel] - prices[buy])\n",
        "            else:\n",
        "                buy = sel\n",
        "            sel += 1\n",
        "        return max_profit"
      ],
      "metadata": {
        "id": "U3s1rpdZ0dPZ"
      },
      "execution_count": null,
      "outputs": []
    }
  ]
}