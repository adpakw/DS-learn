{
  "nbformat": 4,
  "nbformat_minor": 0,
  "metadata": {
    "colab": {
      "provenance": []
    },
    "kernelspec": {
      "name": "python3",
      "display_name": "Python 3"
    },
    "language_info": {
      "name": "python"
    }
  },
  "cells": [
    {
      "cell_type": "markdown",
      "source": [
        "# Метрические алгоритмы. Практика"
      ],
      "metadata": {
        "id": "AkS7Lxm8nTLB"
      }
    },
    {
      "cell_type": "markdown",
      "source": [
        "В этом домашнем задании вы будете решать задачу классификации бутылок вина по различным характеристикам."
      ],
      "metadata": {
        "id": "3jgxaKLXynLQ"
      }
    },
    {
      "cell_type": "markdown",
      "source": [
        "## Импорт библиотек, установка константных значений"
      ],
      "metadata": {
        "id": "ow7CdXlWyrfI"
      }
    },
    {
      "cell_type": "code",
      "source": [
        "import pandas as pd\n",
        "import numpy as np"
      ],
      "metadata": {
        "id": "shgV5ZT-oLG2"
      },
      "execution_count": 1,
      "outputs": []
    },
    {
      "cell_type": "code",
      "source": [
        "RANDOM_STATE = 42\n",
        "TRAIN_SIZE = 0.75"
      ],
      "metadata": {
        "id": "85Rgp6ivyvZq"
      },
      "execution_count": 3,
      "outputs": []
    },
    {
      "cell_type": "code",
      "source": [
        "rng = np.random.default_rng(RANDOM_STATE)"
      ],
      "metadata": {
        "id": "QGpwI1GxyySs"
      },
      "execution_count": 4,
      "outputs": []
    },
    {
      "cell_type": "markdown",
      "source": [
        "## Загрузка данных"
      ],
      "metadata": {
        "id": "uOk2Swygyxho"
      }
    },
    {
      "cell_type": "code",
      "execution_count": 5,
      "metadata": {
        "id": "_8RhxtHwwzTG"
      },
      "outputs": [],
      "source": [
        "from sklearn.datasets import load_wine\n",
        "\n",
        "data = load_wine(as_frame=True)\n",
        "\n",
        "X = data.data\n",
        "y = data.target"
      ]
    },
    {
      "cell_type": "markdown",
      "source": [
        "## Задание 1"
      ],
      "metadata": {
        "id": "KvNTy4_yzOwY"
      }
    },
    {
      "cell_type": "markdown",
      "source": [
        "Посмотрите на количество классов и количество объектов каждого класса в датасете."
      ],
      "metadata": {
        "id": "PNKeCjtEncob"
      }
    },
    {
      "cell_type": "markdown",
      "source": [
        "**Вопрос**:  \n",
        "Сколько классов в задаче?"
      ],
      "metadata": {
        "id": "1O1xV6KWzW8e"
      }
    },
    {
      "cell_type": "code",
      "source": [
        "y.value_counts().sort_index()"
      ],
      "metadata": {
        "id": "vnIXJMT9nh78",
        "colab": {
          "base_uri": "https://localhost:8080/"
        },
        "outputId": "c1383216-ebcd-4a3a-daad-9d6c3a001c8c"
      },
      "execution_count": 6,
      "outputs": [
        {
          "output_type": "execute_result",
          "data": {
            "text/plain": [
              "0    59\n",
              "1    71\n",
              "2    48\n",
              "Name: target, dtype: int64"
            ]
          },
          "metadata": {},
          "execution_count": 6
        }
      ]
    },
    {
      "cell_type": "markdown",
      "source": [
        "## Задание 2"
      ],
      "metadata": {
        "id": "jk9RqS69z6af"
      }
    },
    {
      "cell_type": "markdown",
      "source": [
        "Мы имеем дело с многоклассовой классификацией. Кроме того, классы не очень хорошо сбалансированы, поэтому для оценки качества модели метрика *accuracy* не подойдет."
      ],
      "metadata": {
        "id": "S8dnUB81nkG0"
      }
    },
    {
      "cell_type": "markdown",
      "source": [
        "Разбейте данные на тренировочную и тестовую части:  \n",
        "тестовая часть - 25% от всех данных, зафиксируйте `random_state = RANDOM_STATE`."
      ],
      "metadata": {
        "id": "qM6ZTfphyL8W"
      }
    },
    {
      "cell_type": "code",
      "source": [
        "from sklearn.model_selection import train_test_split\n",
        "\n",
        "X_train, X_test, y_train, y_test = train_test_split(X, y, test_size=0.25, random_state = RANDOM_STATE)"
      ],
      "metadata": {
        "id": "f16RkGUaxUh4"
      },
      "execution_count": 7,
      "outputs": []
    },
    {
      "cell_type": "markdown",
      "source": [
        "**Вопрос:**\n",
        "\n",
        "Все ли признаки в данных одного масштаба?  \n",
        "Проверьте это, выведя основные числовые характеристики матрицы `X_train` методом `describe` из библиотеки `pandas`.\n",
        "\n",
        "По полученной таблице числовых характеристик определите, какой признак измеряется в сотнях?  \n",
        "(если вариантов несколько, выберите признак с наибольшим средним значением)."
      ],
      "metadata": {
        "id": "bX6Vv4dryREe"
      }
    },
    {
      "cell_type": "code",
      "source": [
        "X_train.describe()"
      ],
      "metadata": {
        "id": "VTOG8ggByUSZ",
        "colab": {
          "base_uri": "https://localhost:8080/",
          "height": 300
        },
        "outputId": "ce65db7b-0778-405b-914f-c1bef8d4f5b5"
      },
      "execution_count": 8,
      "outputs": [
        {
          "output_type": "execute_result",
          "data": {
            "text/plain": [
              "          alcohol  malic_acid         ash  alcalinity_of_ash   magnesium  \\\n",
              "count  133.000000  133.000000  133.000000         133.000000  133.000000   \n",
              "mean    12.972857    2.386842    2.362180          19.433835  100.759398   \n",
              "std      0.829993    1.098905    0.280606           3.467312   14.999571   \n",
              "min     11.030000    0.890000    1.360000          10.600000   70.000000   \n",
              "25%     12.290000    1.640000    2.210000          17.200000   88.000000   \n",
              "50%     12.990000    1.900000    2.360000          19.400000   98.000000   \n",
              "75%     13.690000    3.170000    2.540000          21.500000  108.000000   \n",
              "max     14.830000    5.800000    3.230000          30.000000  162.000000   \n",
              "\n",
              "       total_phenols  flavanoids  nonflavanoid_phenols  proanthocyanins  \\\n",
              "count     133.000000  133.000000            133.000000       133.000000   \n",
              "mean        2.277068    2.021203              0.363534         1.608647   \n",
              "std         0.645696    1.005537              0.126923         0.576964   \n",
              "min         0.980000    0.340000              0.130000         0.420000   \n",
              "25%         1.700000    1.200000              0.260000         1.250000   \n",
              "50%         2.230000    2.140000              0.340000         1.560000   \n",
              "75%         2.800000    2.880000              0.450000         1.960000   \n",
              "max         3.880000    5.080000              0.660000         3.580000   \n",
              "\n",
              "       color_intensity         hue  od280/od315_of_diluted_wines      proline  \n",
              "count       133.000000  133.000000                    133.000000   133.000000  \n",
              "mean          5.017594    0.959444                      2.610000   742.992481  \n",
              "std           2.202516    0.234545                      0.729961   306.867593  \n",
              "min           1.740000    0.480000                      1.270000   278.000000  \n",
              "25%           3.250000    0.780000                      1.830000   500.000000  \n",
              "50%           4.800000    0.970000                      2.810000   675.000000  \n",
              "75%           6.130000    1.120000                      3.200000   970.000000  \n",
              "max          10.800000    1.710000                      4.000000  1547.000000  "
            ],
            "text/html": [
              "\n",
              "  <div id=\"df-16fafef2-5621-45fd-b0ca-6a385a45b713\" class=\"colab-df-container\">\n",
              "    <div>\n",
              "<style scoped>\n",
              "    .dataframe tbody tr th:only-of-type {\n",
              "        vertical-align: middle;\n",
              "    }\n",
              "\n",
              "    .dataframe tbody tr th {\n",
              "        vertical-align: top;\n",
              "    }\n",
              "\n",
              "    .dataframe thead th {\n",
              "        text-align: right;\n",
              "    }\n",
              "</style>\n",
              "<table border=\"1\" class=\"dataframe\">\n",
              "  <thead>\n",
              "    <tr style=\"text-align: right;\">\n",
              "      <th></th>\n",
              "      <th>alcohol</th>\n",
              "      <th>malic_acid</th>\n",
              "      <th>ash</th>\n",
              "      <th>alcalinity_of_ash</th>\n",
              "      <th>magnesium</th>\n",
              "      <th>total_phenols</th>\n",
              "      <th>flavanoids</th>\n",
              "      <th>nonflavanoid_phenols</th>\n",
              "      <th>proanthocyanins</th>\n",
              "      <th>color_intensity</th>\n",
              "      <th>hue</th>\n",
              "      <th>od280/od315_of_diluted_wines</th>\n",
              "      <th>proline</th>\n",
              "    </tr>\n",
              "  </thead>\n",
              "  <tbody>\n",
              "    <tr>\n",
              "      <th>count</th>\n",
              "      <td>133.000000</td>\n",
              "      <td>133.000000</td>\n",
              "      <td>133.000000</td>\n",
              "      <td>133.000000</td>\n",
              "      <td>133.000000</td>\n",
              "      <td>133.000000</td>\n",
              "      <td>133.000000</td>\n",
              "      <td>133.000000</td>\n",
              "      <td>133.000000</td>\n",
              "      <td>133.000000</td>\n",
              "      <td>133.000000</td>\n",
              "      <td>133.000000</td>\n",
              "      <td>133.000000</td>\n",
              "    </tr>\n",
              "    <tr>\n",
              "      <th>mean</th>\n",
              "      <td>12.972857</td>\n",
              "      <td>2.386842</td>\n",
              "      <td>2.362180</td>\n",
              "      <td>19.433835</td>\n",
              "      <td>100.759398</td>\n",
              "      <td>2.277068</td>\n",
              "      <td>2.021203</td>\n",
              "      <td>0.363534</td>\n",
              "      <td>1.608647</td>\n",
              "      <td>5.017594</td>\n",
              "      <td>0.959444</td>\n",
              "      <td>2.610000</td>\n",
              "      <td>742.992481</td>\n",
              "    </tr>\n",
              "    <tr>\n",
              "      <th>std</th>\n",
              "      <td>0.829993</td>\n",
              "      <td>1.098905</td>\n",
              "      <td>0.280606</td>\n",
              "      <td>3.467312</td>\n",
              "      <td>14.999571</td>\n",
              "      <td>0.645696</td>\n",
              "      <td>1.005537</td>\n",
              "      <td>0.126923</td>\n",
              "      <td>0.576964</td>\n",
              "      <td>2.202516</td>\n",
              "      <td>0.234545</td>\n",
              "      <td>0.729961</td>\n",
              "      <td>306.867593</td>\n",
              "    </tr>\n",
              "    <tr>\n",
              "      <th>min</th>\n",
              "      <td>11.030000</td>\n",
              "      <td>0.890000</td>\n",
              "      <td>1.360000</td>\n",
              "      <td>10.600000</td>\n",
              "      <td>70.000000</td>\n",
              "      <td>0.980000</td>\n",
              "      <td>0.340000</td>\n",
              "      <td>0.130000</td>\n",
              "      <td>0.420000</td>\n",
              "      <td>1.740000</td>\n",
              "      <td>0.480000</td>\n",
              "      <td>1.270000</td>\n",
              "      <td>278.000000</td>\n",
              "    </tr>\n",
              "    <tr>\n",
              "      <th>25%</th>\n",
              "      <td>12.290000</td>\n",
              "      <td>1.640000</td>\n",
              "      <td>2.210000</td>\n",
              "      <td>17.200000</td>\n",
              "      <td>88.000000</td>\n",
              "      <td>1.700000</td>\n",
              "      <td>1.200000</td>\n",
              "      <td>0.260000</td>\n",
              "      <td>1.250000</td>\n",
              "      <td>3.250000</td>\n",
              "      <td>0.780000</td>\n",
              "      <td>1.830000</td>\n",
              "      <td>500.000000</td>\n",
              "    </tr>\n",
              "    <tr>\n",
              "      <th>50%</th>\n",
              "      <td>12.990000</td>\n",
              "      <td>1.900000</td>\n",
              "      <td>2.360000</td>\n",
              "      <td>19.400000</td>\n",
              "      <td>98.000000</td>\n",
              "      <td>2.230000</td>\n",
              "      <td>2.140000</td>\n",
              "      <td>0.340000</td>\n",
              "      <td>1.560000</td>\n",
              "      <td>4.800000</td>\n",
              "      <td>0.970000</td>\n",
              "      <td>2.810000</td>\n",
              "      <td>675.000000</td>\n",
              "    </tr>\n",
              "    <tr>\n",
              "      <th>75%</th>\n",
              "      <td>13.690000</td>\n",
              "      <td>3.170000</td>\n",
              "      <td>2.540000</td>\n",
              "      <td>21.500000</td>\n",
              "      <td>108.000000</td>\n",
              "      <td>2.800000</td>\n",
              "      <td>2.880000</td>\n",
              "      <td>0.450000</td>\n",
              "      <td>1.960000</td>\n",
              "      <td>6.130000</td>\n",
              "      <td>1.120000</td>\n",
              "      <td>3.200000</td>\n",
              "      <td>970.000000</td>\n",
              "    </tr>\n",
              "    <tr>\n",
              "      <th>max</th>\n",
              "      <td>14.830000</td>\n",
              "      <td>5.800000</td>\n",
              "      <td>3.230000</td>\n",
              "      <td>30.000000</td>\n",
              "      <td>162.000000</td>\n",
              "      <td>3.880000</td>\n",
              "      <td>5.080000</td>\n",
              "      <td>0.660000</td>\n",
              "      <td>3.580000</td>\n",
              "      <td>10.800000</td>\n",
              "      <td>1.710000</td>\n",
              "      <td>4.000000</td>\n",
              "      <td>1547.000000</td>\n",
              "    </tr>\n",
              "  </tbody>\n",
              "</table>\n",
              "</div>\n",
              "    <div class=\"colab-df-buttons\">\n",
              "\n",
              "  <div class=\"colab-df-container\">\n",
              "    <button class=\"colab-df-convert\" onclick=\"convertToInteractive('df-16fafef2-5621-45fd-b0ca-6a385a45b713')\"\n",
              "            title=\"Convert this dataframe to an interactive table.\"\n",
              "            style=\"display:none;\">\n",
              "\n",
              "  <svg xmlns=\"http://www.w3.org/2000/svg\" height=\"24px\" viewBox=\"0 -960 960 960\">\n",
              "    <path d=\"M120-120v-720h720v720H120Zm60-500h600v-160H180v160Zm220 220h160v-160H400v160Zm0 220h160v-160H400v160ZM180-400h160v-160H180v160Zm440 0h160v-160H620v160ZM180-180h160v-160H180v160Zm440 0h160v-160H620v160Z\"/>\n",
              "  </svg>\n",
              "    </button>\n",
              "\n",
              "  <style>\n",
              "    .colab-df-container {\n",
              "      display:flex;\n",
              "      gap: 12px;\n",
              "    }\n",
              "\n",
              "    .colab-df-convert {\n",
              "      background-color: #E8F0FE;\n",
              "      border: none;\n",
              "      border-radius: 50%;\n",
              "      cursor: pointer;\n",
              "      display: none;\n",
              "      fill: #1967D2;\n",
              "      height: 32px;\n",
              "      padding: 0 0 0 0;\n",
              "      width: 32px;\n",
              "    }\n",
              "\n",
              "    .colab-df-convert:hover {\n",
              "      background-color: #E2EBFA;\n",
              "      box-shadow: 0px 1px 2px rgba(60, 64, 67, 0.3), 0px 1px 3px 1px rgba(60, 64, 67, 0.15);\n",
              "      fill: #174EA6;\n",
              "    }\n",
              "\n",
              "    .colab-df-buttons div {\n",
              "      margin-bottom: 4px;\n",
              "    }\n",
              "\n",
              "    [theme=dark] .colab-df-convert {\n",
              "      background-color: #3B4455;\n",
              "      fill: #D2E3FC;\n",
              "    }\n",
              "\n",
              "    [theme=dark] .colab-df-convert:hover {\n",
              "      background-color: #434B5C;\n",
              "      box-shadow: 0px 1px 3px 1px rgba(0, 0, 0, 0.15);\n",
              "      filter: drop-shadow(0px 1px 2px rgba(0, 0, 0, 0.3));\n",
              "      fill: #FFFFFF;\n",
              "    }\n",
              "  </style>\n",
              "\n",
              "    <script>\n",
              "      const buttonEl =\n",
              "        document.querySelector('#df-16fafef2-5621-45fd-b0ca-6a385a45b713 button.colab-df-convert');\n",
              "      buttonEl.style.display =\n",
              "        google.colab.kernel.accessAllowed ? 'block' : 'none';\n",
              "\n",
              "      async function convertToInteractive(key) {\n",
              "        const element = document.querySelector('#df-16fafef2-5621-45fd-b0ca-6a385a45b713');\n",
              "        const dataTable =\n",
              "          await google.colab.kernel.invokeFunction('convertToInteractive',\n",
              "                                                    [key], {});\n",
              "        if (!dataTable) return;\n",
              "\n",
              "        const docLinkHtml = 'Like what you see? Visit the ' +\n",
              "          '<a target=\"_blank\" href=https://colab.research.google.com/notebooks/data_table.ipynb>data table notebook</a>'\n",
              "          + ' to learn more about interactive tables.';\n",
              "        element.innerHTML = '';\n",
              "        dataTable['output_type'] = 'display_data';\n",
              "        await google.colab.output.renderOutput(dataTable, element);\n",
              "        const docLink = document.createElement('div');\n",
              "        docLink.innerHTML = docLinkHtml;\n",
              "        element.appendChild(docLink);\n",
              "      }\n",
              "    </script>\n",
              "  </div>\n",
              "\n",
              "\n",
              "<div id=\"df-50a9b11f-1dd7-43c9-b963-989672d7c137\">\n",
              "  <button class=\"colab-df-quickchart\" onclick=\"quickchart('df-50a9b11f-1dd7-43c9-b963-989672d7c137')\"\n",
              "            title=\"Suggest charts\"\n",
              "            style=\"display:none;\">\n",
              "\n",
              "<svg xmlns=\"http://www.w3.org/2000/svg\" height=\"24px\"viewBox=\"0 0 24 24\"\n",
              "     width=\"24px\">\n",
              "    <g>\n",
              "        <path d=\"M19 3H5c-1.1 0-2 .9-2 2v14c0 1.1.9 2 2 2h14c1.1 0 2-.9 2-2V5c0-1.1-.9-2-2-2zM9 17H7v-7h2v7zm4 0h-2V7h2v10zm4 0h-2v-4h2v4z\"/>\n",
              "    </g>\n",
              "</svg>\n",
              "  </button>\n",
              "\n",
              "<style>\n",
              "  .colab-df-quickchart {\n",
              "      --bg-color: #E8F0FE;\n",
              "      --fill-color: #1967D2;\n",
              "      --hover-bg-color: #E2EBFA;\n",
              "      --hover-fill-color: #174EA6;\n",
              "      --disabled-fill-color: #AAA;\n",
              "      --disabled-bg-color: #DDD;\n",
              "  }\n",
              "\n",
              "  [theme=dark] .colab-df-quickchart {\n",
              "      --bg-color: #3B4455;\n",
              "      --fill-color: #D2E3FC;\n",
              "      --hover-bg-color: #434B5C;\n",
              "      --hover-fill-color: #FFFFFF;\n",
              "      --disabled-bg-color: #3B4455;\n",
              "      --disabled-fill-color: #666;\n",
              "  }\n",
              "\n",
              "  .colab-df-quickchart {\n",
              "    background-color: var(--bg-color);\n",
              "    border: none;\n",
              "    border-radius: 50%;\n",
              "    cursor: pointer;\n",
              "    display: none;\n",
              "    fill: var(--fill-color);\n",
              "    height: 32px;\n",
              "    padding: 0;\n",
              "    width: 32px;\n",
              "  }\n",
              "\n",
              "  .colab-df-quickchart:hover {\n",
              "    background-color: var(--hover-bg-color);\n",
              "    box-shadow: 0 1px 2px rgba(60, 64, 67, 0.3), 0 1px 3px 1px rgba(60, 64, 67, 0.15);\n",
              "    fill: var(--button-hover-fill-color);\n",
              "  }\n",
              "\n",
              "  .colab-df-quickchart-complete:disabled,\n",
              "  .colab-df-quickchart-complete:disabled:hover {\n",
              "    background-color: var(--disabled-bg-color);\n",
              "    fill: var(--disabled-fill-color);\n",
              "    box-shadow: none;\n",
              "  }\n",
              "\n",
              "  .colab-df-spinner {\n",
              "    border: 2px solid var(--fill-color);\n",
              "    border-color: transparent;\n",
              "    border-bottom-color: var(--fill-color);\n",
              "    animation:\n",
              "      spin 1s steps(1) infinite;\n",
              "  }\n",
              "\n",
              "  @keyframes spin {\n",
              "    0% {\n",
              "      border-color: transparent;\n",
              "      border-bottom-color: var(--fill-color);\n",
              "      border-left-color: var(--fill-color);\n",
              "    }\n",
              "    20% {\n",
              "      border-color: transparent;\n",
              "      border-left-color: var(--fill-color);\n",
              "      border-top-color: var(--fill-color);\n",
              "    }\n",
              "    30% {\n",
              "      border-color: transparent;\n",
              "      border-left-color: var(--fill-color);\n",
              "      border-top-color: var(--fill-color);\n",
              "      border-right-color: var(--fill-color);\n",
              "    }\n",
              "    40% {\n",
              "      border-color: transparent;\n",
              "      border-right-color: var(--fill-color);\n",
              "      border-top-color: var(--fill-color);\n",
              "    }\n",
              "    60% {\n",
              "      border-color: transparent;\n",
              "      border-right-color: var(--fill-color);\n",
              "    }\n",
              "    80% {\n",
              "      border-color: transparent;\n",
              "      border-right-color: var(--fill-color);\n",
              "      border-bottom-color: var(--fill-color);\n",
              "    }\n",
              "    90% {\n",
              "      border-color: transparent;\n",
              "      border-bottom-color: var(--fill-color);\n",
              "    }\n",
              "  }\n",
              "</style>\n",
              "\n",
              "  <script>\n",
              "    async function quickchart(key) {\n",
              "      const quickchartButtonEl =\n",
              "        document.querySelector('#' + key + ' button');\n",
              "      quickchartButtonEl.disabled = true;  // To prevent multiple clicks.\n",
              "      quickchartButtonEl.classList.add('colab-df-spinner');\n",
              "      try {\n",
              "        const charts = await google.colab.kernel.invokeFunction(\n",
              "            'suggestCharts', [key], {});\n",
              "      } catch (error) {\n",
              "        console.error('Error during call to suggestCharts:', error);\n",
              "      }\n",
              "      quickchartButtonEl.classList.remove('colab-df-spinner');\n",
              "      quickchartButtonEl.classList.add('colab-df-quickchart-complete');\n",
              "    }\n",
              "    (() => {\n",
              "      let quickchartButtonEl =\n",
              "        document.querySelector('#df-50a9b11f-1dd7-43c9-b963-989672d7c137 button');\n",
              "      quickchartButtonEl.style.display =\n",
              "        google.colab.kernel.accessAllowed ? 'block' : 'none';\n",
              "    })();\n",
              "  </script>\n",
              "</div>\n",
              "    </div>\n",
              "  </div>\n"
            ],
            "application/vnd.google.colaboratory.intrinsic+json": {
              "type": "dataframe",
              "summary": "{\n  \"name\": \"X_train\",\n  \"rows\": 8,\n  \"fields\": [\n    {\n      \"column\": \"alcohol\",\n      \"properties\": {\n        \"dtype\": \"number\",\n        \"std\": 43.273575064641406,\n        \"min\": 0.8299932196040789,\n        \"max\": 133.0,\n        \"num_unique_values\": 8,\n        \"samples\": [\n          12.972857142857144,\n          12.99,\n          133.0\n        ],\n        \"semantic_type\": \"\",\n        \"description\": \"\"\n      }\n    },\n    {\n      \"column\": \"malic_acid\",\n      \"properties\": {\n        \"dtype\": \"number\",\n        \"std\": 46.19596159068348,\n        \"min\": 0.89,\n        \"max\": 133.0,\n        \"num_unique_values\": 8,\n        \"samples\": [\n          2.386842105263158,\n          1.9,\n          133.0\n        ],\n        \"semantic_type\": \"\",\n        \"description\": \"\"\n      }\n    },\n    {\n      \"column\": \"ash\",\n      \"properties\": {\n        \"dtype\": \"number\",\n        \"std\": 46.30660140338019,\n        \"min\": 0.2806063195736037,\n        \"max\": 133.0,\n        \"num_unique_values\": 8,\n        \"samples\": [\n          2.362180451127819,\n          2.36,\n          133.0\n        ],\n        \"semantic_type\": \"\",\n        \"description\": \"\"\n      }\n    },\n    {\n      \"column\": \"alcalinity_of_ash\",\n      \"properties\": {\n        \"dtype\": \"number\",\n        \"std\": 41.61522416001279,\n        \"min\": 3.467312451899561,\n        \"max\": 133.0,\n        \"num_unique_values\": 8,\n        \"samples\": [\n          19.433834586466165,\n          19.4,\n          133.0\n        ],\n        \"semantic_type\": \"\",\n        \"description\": \"\"\n      }\n    },\n    {\n      \"column\": \"magnesium\",\n      \"properties\": {\n        \"dtype\": \"number\",\n        \"std\": 43.4100234171185,\n        \"min\": 14.999570890801495,\n        \"max\": 162.0,\n        \"num_unique_values\": 8,\n        \"samples\": [\n          100.7593984962406,\n          98.0,\n          133.0\n        ],\n        \"semantic_type\": \"\",\n        \"description\": \"\"\n      }\n    },\n    {\n      \"column\": \"total_phenols\",\n      \"properties\": {\n        \"dtype\": \"number\",\n        \"std\": 46.30075240616088,\n        \"min\": 0.6456964550412675,\n        \"max\": 133.0,\n        \"num_unique_values\": 8,\n        \"samples\": [\n          2.2770676691729324,\n          2.23,\n          133.0\n        ],\n        \"semantic_type\": \"\",\n        \"description\": \"\"\n      }\n    },\n    {\n      \"column\": \"flavanoids\",\n      \"properties\": {\n        \"dtype\": \"number\",\n        \"std\": 46.30434892283126,\n        \"min\": 0.34,\n        \"max\": 133.0,\n        \"num_unique_values\": 8,\n        \"samples\": [\n          2.0212030075187974,\n          2.14,\n          133.0\n        ],\n        \"semantic_type\": \"\",\n        \"description\": \"\"\n      }\n    },\n    {\n      \"column\": \"nonflavanoid_phenols\",\n      \"properties\": {\n        \"dtype\": \"number\",\n        \"std\": 46.90521583235785,\n        \"min\": 0.12692276038648054,\n        \"max\": 133.0,\n        \"num_unique_values\": 8,\n        \"samples\": [\n          0.3635338345864661,\n          0.34,\n          133.0\n        ],\n        \"semantic_type\": \"\",\n        \"description\": \"\"\n      }\n    },\n    {\n      \"column\": \"proanthocyanins\",\n      \"properties\": {\n        \"dtype\": \"number\",\n        \"std\": 46.47941003459148,\n        \"min\": 0.42,\n        \"max\": 133.0,\n        \"num_unique_values\": 8,\n        \"samples\": [\n          1.6086466165413533,\n          1.56,\n          133.0\n        ],\n        \"semantic_type\": \"\",\n        \"description\": \"\"\n      }\n    },\n    {\n      \"column\": \"color_intensity\",\n      \"properties\": {\n        \"dtype\": \"number\",\n        \"std\": 45.397056689072954,\n        \"min\": 1.74,\n        \"max\": 133.0,\n        \"num_unique_values\": 8,\n        \"samples\": [\n          5.0175939849624065,\n          4.8,\n          133.0\n        ],\n        \"semantic_type\": \"\",\n        \"description\": \"\"\n      }\n    },\n    {\n      \"column\": \"hue\",\n      \"properties\": {\n        \"dtype\": \"number\",\n        \"std\": 46.708785635702476,\n        \"min\": 0.23454460755329853,\n        \"max\": 133.0,\n        \"num_unique_values\": 8,\n        \"samples\": [\n          0.9594436090225563,\n          0.97,\n          133.0\n        ],\n        \"semantic_type\": \"\",\n        \"description\": \"\"\n      }\n    },\n    {\n      \"column\": \"od280/od315_of_diluted_wines\",\n      \"properties\": {\n        \"dtype\": \"number\",\n        \"std\": 46.203790047649406,\n        \"min\": 0.7299605634843737,\n        \"max\": 133.0,\n        \"num_unique_values\": 8,\n        \"samples\": [\n          2.61,\n          2.81,\n          133.0\n        ],\n        \"semantic_type\": \"\",\n        \"description\": \"\"\n      }\n    },\n    {\n      \"column\": \"proline\",\n      \"properties\": {\n        \"dtype\": \"number\",\n        \"std\": 456.99588599451135,\n        \"min\": 133.0,\n        \"max\": 1547.0,\n        \"num_unique_values\": 8,\n        \"samples\": [\n          742.9924812030075,\n          675.0,\n          133.0\n        ],\n        \"semantic_type\": \"\",\n        \"description\": \"\"\n      }\n    }\n  ]\n}"
            }
          },
          "metadata": {},
          "execution_count": 8
        }
      ]
    },
    {
      "cell_type": "markdown",
      "source": [
        "## Задание 3"
      ],
      "metadata": {
        "id": "6VANARbT0Vu5"
      }
    },
    {
      "cell_type": "markdown",
      "source": [
        "KNN требует того, чтобы все признаки были одного масштаба, поэтому масштабируйте данные при помощи `StandardScaler`.\n",
        "\n",
        "Напоминаем, что обучать метод нужно только по тренировочным данным, а применять и к трейну, и к тесту.\n",
        "\n",
        "После применения `StandardScaler` преобразуйте `X_train` и `X_test` к типу `pd.DataFrame`, названия новых объектов оставьте `X_train` и `X_test`."
      ],
      "metadata": {
        "id": "e1dfCiISo_GH"
      }
    },
    {
      "cell_type": "code",
      "source": [
        "from sklearn.preprocessing import StandardScaler\n",
        "\n",
        "scaler = StandardScaler()\n",
        "scaler.fit(X_train)\n",
        "cols = X_train.columns\n",
        "X_train = scaler.transform(X_train)\n",
        "X_test = scaler.transform(X_test)"
      ],
      "metadata": {
        "id": "IMWxZOLMpLg_"
      },
      "execution_count": 9,
      "outputs": []
    },
    {
      "cell_type": "code",
      "source": [
        "X_train = pd.DataFrame(X_train, columns=cols)\n",
        "X_test = pd.DataFrame(X_test, columns=cols)"
      ],
      "metadata": {
        "id": "kgz0V7H6R9Fh"
      },
      "execution_count": 10,
      "outputs": []
    },
    {
      "cell_type": "markdown",
      "source": [
        "Обучите KNN с параметрами по умолчанию на тренировочных данных и сделайте предсказание на тесте."
      ],
      "metadata": {
        "id": "wfjxuX1hyOpd"
      }
    },
    {
      "cell_type": "code",
      "source": [
        "from sklearn.neighbors import KNeighborsClassifier\n",
        "\n",
        "knn = KNeighborsClassifier()\n",
        "knn.fit(X_train, y_train)"
      ],
      "metadata": {
        "id": "VeyYEAO2yQhL",
        "colab": {
          "base_uri": "https://localhost:8080/",
          "height": 75
        },
        "outputId": "9774a938-403e-41af-fb19-baa3ae09f99f"
      },
      "execution_count": 11,
      "outputs": [
        {
          "output_type": "execute_result",
          "data": {
            "text/plain": [
              "KNeighborsClassifier()"
            ],
            "text/html": [
              "<style>#sk-container-id-1 {color: black;background-color: white;}#sk-container-id-1 pre{padding: 0;}#sk-container-id-1 div.sk-toggleable {background-color: white;}#sk-container-id-1 label.sk-toggleable__label {cursor: pointer;display: block;width: 100%;margin-bottom: 0;padding: 0.3em;box-sizing: border-box;text-align: center;}#sk-container-id-1 label.sk-toggleable__label-arrow:before {content: \"▸\";float: left;margin-right: 0.25em;color: #696969;}#sk-container-id-1 label.sk-toggleable__label-arrow:hover:before {color: black;}#sk-container-id-1 div.sk-estimator:hover label.sk-toggleable__label-arrow:before {color: black;}#sk-container-id-1 div.sk-toggleable__content {max-height: 0;max-width: 0;overflow: hidden;text-align: left;background-color: #f0f8ff;}#sk-container-id-1 div.sk-toggleable__content pre {margin: 0.2em;color: black;border-radius: 0.25em;background-color: #f0f8ff;}#sk-container-id-1 input.sk-toggleable__control:checked~div.sk-toggleable__content {max-height: 200px;max-width: 100%;overflow: auto;}#sk-container-id-1 input.sk-toggleable__control:checked~label.sk-toggleable__label-arrow:before {content: \"▾\";}#sk-container-id-1 div.sk-estimator input.sk-toggleable__control:checked~label.sk-toggleable__label {background-color: #d4ebff;}#sk-container-id-1 div.sk-label input.sk-toggleable__control:checked~label.sk-toggleable__label {background-color: #d4ebff;}#sk-container-id-1 input.sk-hidden--visually {border: 0;clip: rect(1px 1px 1px 1px);clip: rect(1px, 1px, 1px, 1px);height: 1px;margin: -1px;overflow: hidden;padding: 0;position: absolute;width: 1px;}#sk-container-id-1 div.sk-estimator {font-family: monospace;background-color: #f0f8ff;border: 1px dotted black;border-radius: 0.25em;box-sizing: border-box;margin-bottom: 0.5em;}#sk-container-id-1 div.sk-estimator:hover {background-color: #d4ebff;}#sk-container-id-1 div.sk-parallel-item::after {content: \"\";width: 100%;border-bottom: 1px solid gray;flex-grow: 1;}#sk-container-id-1 div.sk-label:hover label.sk-toggleable__label {background-color: #d4ebff;}#sk-container-id-1 div.sk-serial::before {content: \"\";position: absolute;border-left: 1px solid gray;box-sizing: border-box;top: 0;bottom: 0;left: 50%;z-index: 0;}#sk-container-id-1 div.sk-serial {display: flex;flex-direction: column;align-items: center;background-color: white;padding-right: 0.2em;padding-left: 0.2em;position: relative;}#sk-container-id-1 div.sk-item {position: relative;z-index: 1;}#sk-container-id-1 div.sk-parallel {display: flex;align-items: stretch;justify-content: center;background-color: white;position: relative;}#sk-container-id-1 div.sk-item::before, #sk-container-id-1 div.sk-parallel-item::before {content: \"\";position: absolute;border-left: 1px solid gray;box-sizing: border-box;top: 0;bottom: 0;left: 50%;z-index: -1;}#sk-container-id-1 div.sk-parallel-item {display: flex;flex-direction: column;z-index: 1;position: relative;background-color: white;}#sk-container-id-1 div.sk-parallel-item:first-child::after {align-self: flex-end;width: 50%;}#sk-container-id-1 div.sk-parallel-item:last-child::after {align-self: flex-start;width: 50%;}#sk-container-id-1 div.sk-parallel-item:only-child::after {width: 0;}#sk-container-id-1 div.sk-dashed-wrapped {border: 1px dashed gray;margin: 0 0.4em 0.5em 0.4em;box-sizing: border-box;padding-bottom: 0.4em;background-color: white;}#sk-container-id-1 div.sk-label label {font-family: monospace;font-weight: bold;display: inline-block;line-height: 1.2em;}#sk-container-id-1 div.sk-label-container {text-align: center;}#sk-container-id-1 div.sk-container {/* jupyter's `normalize.less` sets `[hidden] { display: none; }` but bootstrap.min.css set `[hidden] { display: none !important; }` so we also need the `!important` here to be able to override the default hidden behavior on the sphinx rendered scikit-learn.org. See: https://github.com/scikit-learn/scikit-learn/issues/21755 */display: inline-block !important;position: relative;}#sk-container-id-1 div.sk-text-repr-fallback {display: none;}</style><div id=\"sk-container-id-1\" class=\"sk-top-container\"><div class=\"sk-text-repr-fallback\"><pre>KNeighborsClassifier()</pre><b>In a Jupyter environment, please rerun this cell to show the HTML representation or trust the notebook. <br />On GitHub, the HTML representation is unable to render, please try loading this page with nbviewer.org.</b></div><div class=\"sk-container\" hidden><div class=\"sk-item\"><div class=\"sk-estimator sk-toggleable\"><input class=\"sk-toggleable__control sk-hidden--visually\" id=\"sk-estimator-id-1\" type=\"checkbox\" checked><label for=\"sk-estimator-id-1\" class=\"sk-toggleable__label sk-toggleable__label-arrow\">KNeighborsClassifier</label><div class=\"sk-toggleable__content\"><pre>KNeighborsClassifier()</pre></div></div></div></div></div>"
            ]
          },
          "metadata": {},
          "execution_count": 11
        }
      ]
    },
    {
      "cell_type": "code",
      "source": [
        "preds = knn.predict(X_test)"
      ],
      "metadata": {
        "id": "vBkBsQvAS_ak"
      },
      "execution_count": 12,
      "outputs": []
    },
    {
      "cell_type": "markdown",
      "source": [
        "Будем измерять качество модели по метрике weighted $f1$-score.\n",
        "\n",
        "Чтобы выбрать тип усреднения (micro, macro, weighted) в функции `f1_score` необходимо задать этот тип в гиперпараметре `average`.\n",
        "\n",
        "Вычислите $f1$-score на тестовых данных."
      ],
      "metadata": {
        "id": "E18N3QNMrQLw"
      }
    },
    {
      "cell_type": "markdown",
      "source": [
        "**Вопрос:**\n",
        "\n",
        "Чему равен $f1$-score на тестовых данных?"
      ],
      "metadata": {
        "id": "aLaSCeCf0uPd"
      }
    },
    {
      "cell_type": "code",
      "source": [
        "from sklearn.metrics import f1_score\n",
        "\n",
        "print(\"f1_score: \", f1_score(y_test, preds, average='weighted'))"
      ],
      "metadata": {
        "id": "TdhIWbULrnPv",
        "colab": {
          "base_uri": "https://localhost:8080/"
        },
        "outputId": "297eb584-7fcb-48aa-9df8-c2b80ae90e5d"
      },
      "execution_count": 13,
      "outputs": [
        {
          "output_type": "stream",
          "name": "stdout",
          "text": [
            "f1_score:  0.9550512333965844\n"
          ]
        }
      ]
    },
    {
      "cell_type": "markdown",
      "source": [
        "## Задание 4"
      ],
      "metadata": {
        "id": "kco77ab200s9"
      }
    },
    {
      "cell_type": "markdown",
      "source": [
        "Попробуем улучшить модель.\n",
        "\n",
        "Подберите оптимальное количество соседей (`n_neighbors`) из диапазона *от 3 до 30 с шагом 2* и веса соседей (`weights`):  \n",
        "`uniform`, `distance` по кросс-валидации с тремя фолдами на тренировочных данных.\n",
        "\n",
        "Используйте `GridSearchCV` и метрику `f1_weighted`."
      ],
      "metadata": {
        "id": "BONbGWi1yVIQ"
      }
    },
    {
      "cell_type": "code",
      "source": [
        "from sklearn.model_selection import GridSearchCV\n",
        "\n",
        "param_grid = {\n",
        "    'n_neighbors': np.arange(3, 31, 2),\n",
        "    'weights': ['uniform', 'distance']\n",
        "}\n",
        "\n",
        "grid = GridSearchCV(KNeighborsClassifier(), param_grid=param_grid, scoring='f1_weighted', cv=3, n_jobs=-1)"
      ],
      "metadata": {
        "id": "6nM_wc6iydB-"
      },
      "execution_count": 14,
      "outputs": []
    },
    {
      "cell_type": "code",
      "source": [
        "grid.fit(X_train, y_train)"
      ],
      "metadata": {
        "colab": {
          "base_uri": "https://localhost:8080/",
          "height": 117
        },
        "id": "DwxvvjOZVRfC",
        "outputId": "6503167a-2b5f-4dff-c957-0e77ea6426a2"
      },
      "execution_count": 15,
      "outputs": [
        {
          "output_type": "execute_result",
          "data": {
            "text/plain": [
              "GridSearchCV(cv=3, estimator=KNeighborsClassifier(), n_jobs=1,\n",
              "             param_grid={'n_neighbors': array([ 3,  5,  7,  9, 11, 13, 15, 17, 19, 21, 23, 25, 27, 29]),\n",
              "                         'weights': ['uniform', 'distance']},\n",
              "             scoring='f1_weighted')"
            ],
            "text/html": [
              "<style>#sk-container-id-2 {color: black;background-color: white;}#sk-container-id-2 pre{padding: 0;}#sk-container-id-2 div.sk-toggleable {background-color: white;}#sk-container-id-2 label.sk-toggleable__label {cursor: pointer;display: block;width: 100%;margin-bottom: 0;padding: 0.3em;box-sizing: border-box;text-align: center;}#sk-container-id-2 label.sk-toggleable__label-arrow:before {content: \"▸\";float: left;margin-right: 0.25em;color: #696969;}#sk-container-id-2 label.sk-toggleable__label-arrow:hover:before {color: black;}#sk-container-id-2 div.sk-estimator:hover label.sk-toggleable__label-arrow:before {color: black;}#sk-container-id-2 div.sk-toggleable__content {max-height: 0;max-width: 0;overflow: hidden;text-align: left;background-color: #f0f8ff;}#sk-container-id-2 div.sk-toggleable__content pre {margin: 0.2em;color: black;border-radius: 0.25em;background-color: #f0f8ff;}#sk-container-id-2 input.sk-toggleable__control:checked~div.sk-toggleable__content {max-height: 200px;max-width: 100%;overflow: auto;}#sk-container-id-2 input.sk-toggleable__control:checked~label.sk-toggleable__label-arrow:before {content: \"▾\";}#sk-container-id-2 div.sk-estimator input.sk-toggleable__control:checked~label.sk-toggleable__label {background-color: #d4ebff;}#sk-container-id-2 div.sk-label input.sk-toggleable__control:checked~label.sk-toggleable__label {background-color: #d4ebff;}#sk-container-id-2 input.sk-hidden--visually {border: 0;clip: rect(1px 1px 1px 1px);clip: rect(1px, 1px, 1px, 1px);height: 1px;margin: -1px;overflow: hidden;padding: 0;position: absolute;width: 1px;}#sk-container-id-2 div.sk-estimator {font-family: monospace;background-color: #f0f8ff;border: 1px dotted black;border-radius: 0.25em;box-sizing: border-box;margin-bottom: 0.5em;}#sk-container-id-2 div.sk-estimator:hover {background-color: #d4ebff;}#sk-container-id-2 div.sk-parallel-item::after {content: \"\";width: 100%;border-bottom: 1px solid gray;flex-grow: 1;}#sk-container-id-2 div.sk-label:hover label.sk-toggleable__label {background-color: #d4ebff;}#sk-container-id-2 div.sk-serial::before {content: \"\";position: absolute;border-left: 1px solid gray;box-sizing: border-box;top: 0;bottom: 0;left: 50%;z-index: 0;}#sk-container-id-2 div.sk-serial {display: flex;flex-direction: column;align-items: center;background-color: white;padding-right: 0.2em;padding-left: 0.2em;position: relative;}#sk-container-id-2 div.sk-item {position: relative;z-index: 1;}#sk-container-id-2 div.sk-parallel {display: flex;align-items: stretch;justify-content: center;background-color: white;position: relative;}#sk-container-id-2 div.sk-item::before, #sk-container-id-2 div.sk-parallel-item::before {content: \"\";position: absolute;border-left: 1px solid gray;box-sizing: border-box;top: 0;bottom: 0;left: 50%;z-index: -1;}#sk-container-id-2 div.sk-parallel-item {display: flex;flex-direction: column;z-index: 1;position: relative;background-color: white;}#sk-container-id-2 div.sk-parallel-item:first-child::after {align-self: flex-end;width: 50%;}#sk-container-id-2 div.sk-parallel-item:last-child::after {align-self: flex-start;width: 50%;}#sk-container-id-2 div.sk-parallel-item:only-child::after {width: 0;}#sk-container-id-2 div.sk-dashed-wrapped {border: 1px dashed gray;margin: 0 0.4em 0.5em 0.4em;box-sizing: border-box;padding-bottom: 0.4em;background-color: white;}#sk-container-id-2 div.sk-label label {font-family: monospace;font-weight: bold;display: inline-block;line-height: 1.2em;}#sk-container-id-2 div.sk-label-container {text-align: center;}#sk-container-id-2 div.sk-container {/* jupyter's `normalize.less` sets `[hidden] { display: none; }` but bootstrap.min.css set `[hidden] { display: none !important; }` so we also need the `!important` here to be able to override the default hidden behavior on the sphinx rendered scikit-learn.org. See: https://github.com/scikit-learn/scikit-learn/issues/21755 */display: inline-block !important;position: relative;}#sk-container-id-2 div.sk-text-repr-fallback {display: none;}</style><div id=\"sk-container-id-2\" class=\"sk-top-container\"><div class=\"sk-text-repr-fallback\"><pre>GridSearchCV(cv=3, estimator=KNeighborsClassifier(), n_jobs=1,\n",
              "             param_grid={&#x27;n_neighbors&#x27;: array([ 3,  5,  7,  9, 11, 13, 15, 17, 19, 21, 23, 25, 27, 29]),\n",
              "                         &#x27;weights&#x27;: [&#x27;uniform&#x27;, &#x27;distance&#x27;]},\n",
              "             scoring=&#x27;f1_weighted&#x27;)</pre><b>In a Jupyter environment, please rerun this cell to show the HTML representation or trust the notebook. <br />On GitHub, the HTML representation is unable to render, please try loading this page with nbviewer.org.</b></div><div class=\"sk-container\" hidden><div class=\"sk-item sk-dashed-wrapped\"><div class=\"sk-label-container\"><div class=\"sk-label sk-toggleable\"><input class=\"sk-toggleable__control sk-hidden--visually\" id=\"sk-estimator-id-2\" type=\"checkbox\" ><label for=\"sk-estimator-id-2\" class=\"sk-toggleable__label sk-toggleable__label-arrow\">GridSearchCV</label><div class=\"sk-toggleable__content\"><pre>GridSearchCV(cv=3, estimator=KNeighborsClassifier(), n_jobs=1,\n",
              "             param_grid={&#x27;n_neighbors&#x27;: array([ 3,  5,  7,  9, 11, 13, 15, 17, 19, 21, 23, 25, 27, 29]),\n",
              "                         &#x27;weights&#x27;: [&#x27;uniform&#x27;, &#x27;distance&#x27;]},\n",
              "             scoring=&#x27;f1_weighted&#x27;)</pre></div></div></div><div class=\"sk-parallel\"><div class=\"sk-parallel-item\"><div class=\"sk-item\"><div class=\"sk-label-container\"><div class=\"sk-label sk-toggleable\"><input class=\"sk-toggleable__control sk-hidden--visually\" id=\"sk-estimator-id-3\" type=\"checkbox\" ><label for=\"sk-estimator-id-3\" class=\"sk-toggleable__label sk-toggleable__label-arrow\">estimator: KNeighborsClassifier</label><div class=\"sk-toggleable__content\"><pre>KNeighborsClassifier()</pre></div></div></div><div class=\"sk-serial\"><div class=\"sk-item\"><div class=\"sk-estimator sk-toggleable\"><input class=\"sk-toggleable__control sk-hidden--visually\" id=\"sk-estimator-id-4\" type=\"checkbox\" ><label for=\"sk-estimator-id-4\" class=\"sk-toggleable__label sk-toggleable__label-arrow\">KNeighborsClassifier</label><div class=\"sk-toggleable__content\"><pre>KNeighborsClassifier()</pre></div></div></div></div></div></div></div></div></div></div>"
            ]
          },
          "metadata": {},
          "execution_count": 15
        }
      ]
    },
    {
      "cell_type": "code",
      "source": [
        "print(\"best params: \", grid.best_params_)\n",
        "print(\"best scores: \", grid.best_score_)"
      ],
      "metadata": {
        "colab": {
          "base_uri": "https://localhost:8080/"
        },
        "id": "eU4PN5GuVdt_",
        "outputId": "6c770d17-d60d-4ff7-da56-a3b799edfe81"
      },
      "execution_count": 16,
      "outputs": [
        {
          "output_type": "stream",
          "name": "stdout",
          "text": [
            "best params:  {'n_neighbors': 19, 'weights': 'distance'}\n",
            "best scores:  0.9623290498688744\n"
          ]
        }
      ]
    },
    {
      "cell_type": "markdown",
      "source": [
        "Возьмите best_estimator_, полученный при обучении GridSearchCV и с помощью него  \n",
        "сделайте предсказание на тесте и вычислите метрику `f1_weighted`."
      ],
      "metadata": {
        "id": "b6mM-XXps5Af"
      }
    },
    {
      "cell_type": "code",
      "source": [
        "best_knn = grid.best_estimator_\n",
        "best_preds = best_knn.predict(X_test)"
      ],
      "metadata": {
        "id": "6Sn00daNtGWd"
      },
      "execution_count": 17,
      "outputs": []
    },
    {
      "cell_type": "code",
      "source": [
        "print(\"f1_weighted_best: \", f1_score(y_test, best_preds, average='weighted'))"
      ],
      "metadata": {
        "colab": {
          "base_uri": "https://localhost:8080/"
        },
        "id": "rzJv00t8WZPd",
        "outputId": "d16a7ed1-2498-4b7e-a546-7d12f45924b9"
      },
      "execution_count": 18,
      "outputs": [
        {
          "output_type": "stream",
          "name": "stdout",
          "text": [
            "f1_weighted_best:  0.9550512333965844\n"
          ]
        }
      ]
    },
    {
      "cell_type": "markdown",
      "source": [
        "**Вопрос:**\n",
        "\n",
        "Удалось ли при помощи подбора гиперпараметров улучшить качество модели на тестовых данных?"
      ],
      "metadata": {
        "id": "HzAQzK3JtT7h"
      }
    },
    {
      "cell_type": "markdown",
      "source": [
        "## Задание 5"
      ],
      "metadata": {
        "id": "iLzHwlkj1cjs"
      }
    },
    {
      "cell_type": "markdown",
      "source": [
        "Выведите на экран матрицу ошибок.\n",
        "\n",
        "Используйте модель с подобранными при помощи `GridSearch` гиперпараметрами.\n"
      ],
      "metadata": {
        "id": "tdm2A5SSylYQ"
      }
    },
    {
      "cell_type": "markdown",
      "source": [
        "**Вопрос:**  \n",
        "По этой матрице определите, какие классы между собой путает модель?"
      ],
      "metadata": {
        "id": "FHgD2EQG1i1V"
      }
    },
    {
      "cell_type": "code",
      "source": [
        "from sklearn.metrics import confusion_matrix\n",
        "\n",
        "confusion_matrix(y_test, best_preds)"
      ],
      "metadata": {
        "id": "I5u0A5a0yqge",
        "colab": {
          "base_uri": "https://localhost:8080/"
        },
        "outputId": "ab70b6c0-6cf1-438c-ef1c-4daa4ea92059"
      },
      "execution_count": 19,
      "outputs": [
        {
          "output_type": "execute_result",
          "data": {
            "text/plain": [
              "array([[15,  0,  0],\n",
              "       [ 1, 16,  1],\n",
              "       [ 0,  0, 12]])"
            ]
          },
          "metadata": {},
          "execution_count": 19
        }
      ]
    },
    {
      "cell_type": "markdown",
      "source": [
        "## Бонус (эксперименты с LSH)"
      ],
      "metadata": {
        "id": "9qKKGd2eyq6E"
      }
    },
    {
      "cell_type": "markdown",
      "source": [
        "Скопируйте все функции из [ноутбука в уроке \"Быстрый поиск соседей\"](https://colab.research.google.com/drive/181MMOcTnzdMVzJr0pWzqtEG0-BV9BIHH)."
      ],
      "metadata": {
        "id": "l-_YTZzg1qnq"
      }
    },
    {
      "cell_type": "code",
      "source": [
        "# ваш код здесь"
      ],
      "metadata": {
        "id": "ia2GsrwKy5co"
      },
      "execution_count": null,
      "outputs": []
    },
    {
      "cell_type": "markdown",
      "source": [
        "При помощи `knn_search` найдите ближайших соседей к вину `X_test.iloc[0]` в **тренировочных** данных.\n",
        "\n",
        "Обратите внимание, что функция `knn_search` принимает на вход `np.array`, а не `pd.DataFrame`. Поэтому переведите аргументы в `np.array`, приписав к необходимому объекту $X$: `X.values`."
      ],
      "metadata": {
        "id": "nYFSYav3vzVC"
      }
    },
    {
      "cell_type": "code",
      "source": [
        "%%time\n",
        "\n",
        "# ваш код здесь"
      ],
      "metadata": {
        "id": "NB-UNOgUunot"
      },
      "execution_count": null,
      "outputs": []
    },
    {
      "cell_type": "markdown",
      "source": [
        "Выведите на экран признаки объекта `X_test.iloc[0]` и признаки ближайшего найденного соседа."
      ],
      "metadata": {
        "id": "y86BRzABvLHB"
      }
    },
    {
      "cell_type": "code",
      "source": [
        "# ваш код здесь"
      ],
      "metadata": {
        "id": "Mi18Sp2WvQYE"
      },
      "execution_count": null,
      "outputs": []
    },
    {
      "cell_type": "markdown",
      "source": [
        "**Вопрос:**\n",
        "\n",
        "Можно ли сказать, что в тренировочных данных есть вино, почти такое же как `X_test.iloc[0]`? (все признаки почти одинаковые)\n",
        "\n",
        "Какое расстояние между объектом запроса и первым ближайшим соседом?"
      ],
      "metadata": {
        "id": "3aeCTiYnx2_q"
      }
    },
    {
      "cell_type": "markdown",
      "source": [
        "Теперь найдите ближайшего соседа при помощи `approx_knn_search`."
      ],
      "metadata": {
        "id": "zWEBfyAay53O"
      }
    },
    {
      "cell_type": "code",
      "source": [
        "%%time\n",
        "\n",
        "# ваш код здесь"
      ],
      "metadata": {
        "id": "ezxEITyiy-1a"
      },
      "execution_count": null,
      "outputs": []
    },
    {
      "cell_type": "markdown",
      "source": [
        "Ближайший сосед при помощи KNN+LSH может быть найден не точно или не с первого запуска.  \n",
        "Запустите последнюю ячейку несколько раз и убедитесь, что ближайший сосед находится верно за несколько запусков."
      ],
      "metadata": {
        "id": "sCPx6pgnwRqX"
      }
    },
    {
      "cell_type": "markdown",
      "source": [
        "**Вопрос:**\n",
        "\n",
        "Запустите `knn_search` и `appox_knn_search` несколько раз и сравните время запусков. Какой из подходов в этой задаче работает быстрее?"
      ],
      "metadata": {
        "id": "Rpj5qiwi2IJq"
      }
    }
  ]
}