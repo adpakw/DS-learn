{
  "cells": [
    {
      "cell_type": "markdown",
      "metadata": {
        "id": "peyKH6cGW0lN"
      },
      "source": [
        "# Логистическая регрессия"
      ]
    },
    {
      "cell_type": "markdown",
      "metadata": {
        "id": "Q7ytv2GMjpGZ"
      },
      "source": [
        "Обучим логистическую регрессию для предсказания того, откликнется клиент  \n",
        "на рекламное предложение (target = 1) или нет (target = 0)."
      ]
    },
    {
      "cell_type": "markdown",
      "metadata": {
        "id": "x3mt2yCHYO0-"
      },
      "source": [
        "## Подлючение библиотек, загрузка и обзор данных"
      ]
    },
    {
      "cell_type": "code",
      "execution_count": 1,
      "metadata": {
        "id": "aPDB2wP8jndz"
      },
      "outputs": [],
      "source": [
        "import matplotlib.pyplot as plt\n",
        "import numpy as np\n",
        "import pandas as pd\n",
        "\n",
        "import warnings\n",
        "warnings.filterwarnings(\"ignore\")"
      ]
    },
    {
      "cell_type": "code",
      "execution_count": 2,
      "metadata": {
        "id": "7Zw7RmtAjn8O"
      },
      "outputs": [],
      "source": [
        "data = pd.read_csv('https://raw.githubusercontent.com/evgpat/edu_stepik_practical_ml/main/datasets/clients_data.csv')"
      ]
    },
    {
      "cell_type": "code",
      "execution_count": 3,
      "metadata": {
        "id": "3QbRGWqJjxOv"
      },
      "outputs": [
        {
          "data": {
            "text/html": [
              "<div>\n",
              "<style scoped>\n",
              "    .dataframe tbody tr th:only-of-type {\n",
              "        vertical-align: middle;\n",
              "    }\n",
              "\n",
              "    .dataframe tbody tr th {\n",
              "        vertical-align: top;\n",
              "    }\n",
              "\n",
              "    .dataframe thead th {\n",
              "        text-align: right;\n",
              "    }\n",
              "</style>\n",
              "<table border=\"1\" class=\"dataframe\">\n",
              "  <thead>\n",
              "    <tr style=\"text-align: right;\">\n",
              "      <th></th>\n",
              "      <th>AGE</th>\n",
              "      <th>SOCSTATUS_WORK_FL</th>\n",
              "      <th>SOCSTATUS_PENS_FL</th>\n",
              "      <th>GENDER</th>\n",
              "      <th>CHILD_TOTAL</th>\n",
              "      <th>DEPENDANTS</th>\n",
              "      <th>PERSONAL_INCOME</th>\n",
              "      <th>LOAN_NUM_TOTAL</th>\n",
              "      <th>LOAN_NUM_CLOSED</th>\n",
              "      <th>LOAN_DLQ_NUM</th>\n",
              "      <th>TARGET</th>\n",
              "    </tr>\n",
              "  </thead>\n",
              "  <tbody>\n",
              "    <tr>\n",
              "      <th>0</th>\n",
              "      <td>49</td>\n",
              "      <td>1</td>\n",
              "      <td>0</td>\n",
              "      <td>1</td>\n",
              "      <td>2</td>\n",
              "      <td>1</td>\n",
              "      <td>5000.0</td>\n",
              "      <td>1</td>\n",
              "      <td>1</td>\n",
              "      <td>2</td>\n",
              "      <td>0</td>\n",
              "    </tr>\n",
              "    <tr>\n",
              "      <th>1</th>\n",
              "      <td>32</td>\n",
              "      <td>1</td>\n",
              "      <td>0</td>\n",
              "      <td>1</td>\n",
              "      <td>3</td>\n",
              "      <td>3</td>\n",
              "      <td>12000.0</td>\n",
              "      <td>1</td>\n",
              "      <td>1</td>\n",
              "      <td>1</td>\n",
              "      <td>0</td>\n",
              "    </tr>\n",
              "    <tr>\n",
              "      <th>2</th>\n",
              "      <td>52</td>\n",
              "      <td>1</td>\n",
              "      <td>0</td>\n",
              "      <td>1</td>\n",
              "      <td>4</td>\n",
              "      <td>0</td>\n",
              "      <td>9000.0</td>\n",
              "      <td>2</td>\n",
              "      <td>1</td>\n",
              "      <td>0</td>\n",
              "      <td>0</td>\n",
              "    </tr>\n",
              "    <tr>\n",
              "      <th>3</th>\n",
              "      <td>39</td>\n",
              "      <td>1</td>\n",
              "      <td>0</td>\n",
              "      <td>1</td>\n",
              "      <td>1</td>\n",
              "      <td>1</td>\n",
              "      <td>25000.0</td>\n",
              "      <td>1</td>\n",
              "      <td>1</td>\n",
              "      <td>3</td>\n",
              "      <td>0</td>\n",
              "    </tr>\n",
              "    <tr>\n",
              "      <th>4</th>\n",
              "      <td>30</td>\n",
              "      <td>1</td>\n",
              "      <td>0</td>\n",
              "      <td>0</td>\n",
              "      <td>0</td>\n",
              "      <td>0</td>\n",
              "      <td>12000.0</td>\n",
              "      <td>2</td>\n",
              "      <td>1</td>\n",
              "      <td>2</td>\n",
              "      <td>0</td>\n",
              "    </tr>\n",
              "  </tbody>\n",
              "</table>\n",
              "</div>"
            ],
            "text/plain": [
              "   AGE  SOCSTATUS_WORK_FL  SOCSTATUS_PENS_FL  GENDER  CHILD_TOTAL  DEPENDANTS  \\\n",
              "0   49                  1                  0       1            2           1   \n",
              "1   32                  1                  0       1            3           3   \n",
              "2   52                  1                  0       1            4           0   \n",
              "3   39                  1                  0       1            1           1   \n",
              "4   30                  1                  0       0            0           0   \n",
              "\n",
              "   PERSONAL_INCOME  LOAN_NUM_TOTAL  LOAN_NUM_CLOSED  LOAN_DLQ_NUM  TARGET  \n",
              "0           5000.0               1                1             2       0  \n",
              "1          12000.0               1                1             1       0  \n",
              "2           9000.0               2                1             0       0  \n",
              "3          25000.0               1                1             3       0  \n",
              "4          12000.0               2                1             2       0  "
            ]
          },
          "execution_count": 3,
          "metadata": {},
          "output_type": "execute_result"
        }
      ],
      "source": [
        "data.head()"
      ]
    },
    {
      "cell_type": "code",
      "execution_count": 4,
      "metadata": {
        "id": "bkG1LjB0s81d"
      },
      "outputs": [],
      "source": [
        "from sklearn.model_selection import train_test_split\n",
        "\n",
        "X = data.drop('TARGET', axis=1)\n",
        "y = data['TARGET']\n",
        "\n",
        "Xtrain, Xtest, ytrain, ytest = train_test_split(X, y, train_size=0.7, random_state=123)"
      ]
    },
    {
      "cell_type": "markdown",
      "metadata": {
        "id": "C78zRrXtYLbZ"
      },
      "source": [
        "## Практика"
      ]
    },
    {
      "cell_type": "markdown",
      "metadata": {
        "id": "-4z9iGIAmcNA"
      },
      "source": [
        "**Задание**  \n",
        "Выведите на экран количество объектов каждого класса. Сколько процентов объектов относятся к положительному классу?  \n",
        "Ответ округлите до целого числа (например, если доля объектов положительного класса равна 0.412, в ответ запишите 41,  \n",
        "имея в виду 41 процент)."
      ]
    },
    {
      "cell_type": "code",
      "execution_count": 5,
      "metadata": {
        "id": "K2-WIJismssr"
      },
      "outputs": [
        {
          "data": {
            "text/html": [
              "<div>\n",
              "<style scoped>\n",
              "    .dataframe tbody tr th:only-of-type {\n",
              "        vertical-align: middle;\n",
              "    }\n",
              "\n",
              "    .dataframe tbody tr th {\n",
              "        vertical-align: top;\n",
              "    }\n",
              "\n",
              "    .dataframe thead th {\n",
              "        text-align: right;\n",
              "    }\n",
              "</style>\n",
              "<table border=\"1\" class=\"dataframe\">\n",
              "  <thead>\n",
              "    <tr style=\"text-align: right;\">\n",
              "      <th></th>\n",
              "      <th>AGE</th>\n",
              "      <th>SOCSTATUS_WORK_FL</th>\n",
              "      <th>SOCSTATUS_PENS_FL</th>\n",
              "      <th>GENDER</th>\n",
              "      <th>CHILD_TOTAL</th>\n",
              "      <th>DEPENDANTS</th>\n",
              "      <th>PERSONAL_INCOME</th>\n",
              "      <th>LOAN_NUM_TOTAL</th>\n",
              "      <th>LOAN_NUM_CLOSED</th>\n",
              "      <th>LOAN_DLQ_NUM</th>\n",
              "      <th>TARGET</th>\n",
              "    </tr>\n",
              "  </thead>\n",
              "  <tbody>\n",
              "    <tr>\n",
              "      <th>count</th>\n",
              "      <td>15223.000000</td>\n",
              "      <td>15223.000000</td>\n",
              "      <td>15223.000000</td>\n",
              "      <td>15223.000000</td>\n",
              "      <td>15223.000000</td>\n",
              "      <td>15223.000000</td>\n",
              "      <td>15223.000000</td>\n",
              "      <td>15223.000000</td>\n",
              "      <td>15223.000000</td>\n",
              "      <td>15223.000000</td>\n",
              "      <td>15223.000000</td>\n",
              "    </tr>\n",
              "    <tr>\n",
              "      <th>mean</th>\n",
              "      <td>40.406096</td>\n",
              "      <td>0.909610</td>\n",
              "      <td>0.134468</td>\n",
              "      <td>0.654536</td>\n",
              "      <td>1.099389</td>\n",
              "      <td>0.645208</td>\n",
              "      <td>13853.836323</td>\n",
              "      <td>1.387769</td>\n",
              "      <td>0.751889</td>\n",
              "      <td>0.195362</td>\n",
              "      <td>0.119030</td>\n",
              "    </tr>\n",
              "    <tr>\n",
              "      <th>std</th>\n",
              "      <td>11.601068</td>\n",
              "      <td>0.286748</td>\n",
              "      <td>0.341165</td>\n",
              "      <td>0.475535</td>\n",
              "      <td>0.995411</td>\n",
              "      <td>0.812252</td>\n",
              "      <td>9015.467617</td>\n",
              "      <td>0.793566</td>\n",
              "      <td>0.988499</td>\n",
              "      <td>0.685022</td>\n",
              "      <td>0.323835</td>\n",
              "    </tr>\n",
              "    <tr>\n",
              "      <th>min</th>\n",
              "      <td>21.000000</td>\n",
              "      <td>0.000000</td>\n",
              "      <td>0.000000</td>\n",
              "      <td>0.000000</td>\n",
              "      <td>0.000000</td>\n",
              "      <td>0.000000</td>\n",
              "      <td>24.000000</td>\n",
              "      <td>1.000000</td>\n",
              "      <td>0.000000</td>\n",
              "      <td>0.000000</td>\n",
              "      <td>0.000000</td>\n",
              "    </tr>\n",
              "    <tr>\n",
              "      <th>25%</th>\n",
              "      <td>30.000000</td>\n",
              "      <td>1.000000</td>\n",
              "      <td>0.000000</td>\n",
              "      <td>0.000000</td>\n",
              "      <td>0.000000</td>\n",
              "      <td>0.000000</td>\n",
              "      <td>8000.000000</td>\n",
              "      <td>1.000000</td>\n",
              "      <td>0.000000</td>\n",
              "      <td>0.000000</td>\n",
              "      <td>0.000000</td>\n",
              "    </tr>\n",
              "    <tr>\n",
              "      <th>50%</th>\n",
              "      <td>39.000000</td>\n",
              "      <td>1.000000</td>\n",
              "      <td>0.000000</td>\n",
              "      <td>1.000000</td>\n",
              "      <td>1.000000</td>\n",
              "      <td>0.000000</td>\n",
              "      <td>12000.000000</td>\n",
              "      <td>1.000000</td>\n",
              "      <td>0.000000</td>\n",
              "      <td>0.000000</td>\n",
              "      <td>0.000000</td>\n",
              "    </tr>\n",
              "    <tr>\n",
              "      <th>75%</th>\n",
              "      <td>50.000000</td>\n",
              "      <td>1.000000</td>\n",
              "      <td>0.000000</td>\n",
              "      <td>1.000000</td>\n",
              "      <td>2.000000</td>\n",
              "      <td>1.000000</td>\n",
              "      <td>17000.000000</td>\n",
              "      <td>2.000000</td>\n",
              "      <td>1.000000</td>\n",
              "      <td>0.000000</td>\n",
              "      <td>0.000000</td>\n",
              "    </tr>\n",
              "    <tr>\n",
              "      <th>max</th>\n",
              "      <td>67.000000</td>\n",
              "      <td>1.000000</td>\n",
              "      <td>1.000000</td>\n",
              "      <td>1.000000</td>\n",
              "      <td>10.000000</td>\n",
              "      <td>7.000000</td>\n",
              "      <td>250000.000000</td>\n",
              "      <td>11.000000</td>\n",
              "      <td>11.000000</td>\n",
              "      <td>13.000000</td>\n",
              "      <td>1.000000</td>\n",
              "    </tr>\n",
              "  </tbody>\n",
              "</table>\n",
              "</div>"
            ],
            "text/plain": [
              "                AGE  SOCSTATUS_WORK_FL  SOCSTATUS_PENS_FL        GENDER  \\\n",
              "count  15223.000000       15223.000000       15223.000000  15223.000000   \n",
              "mean      40.406096           0.909610           0.134468      0.654536   \n",
              "std       11.601068           0.286748           0.341165      0.475535   \n",
              "min       21.000000           0.000000           0.000000      0.000000   \n",
              "25%       30.000000           1.000000           0.000000      0.000000   \n",
              "50%       39.000000           1.000000           0.000000      1.000000   \n",
              "75%       50.000000           1.000000           0.000000      1.000000   \n",
              "max       67.000000           1.000000           1.000000      1.000000   \n",
              "\n",
              "        CHILD_TOTAL    DEPENDANTS  PERSONAL_INCOME  LOAN_NUM_TOTAL  \\\n",
              "count  15223.000000  15223.000000     15223.000000    15223.000000   \n",
              "mean       1.099389      0.645208     13853.836323        1.387769   \n",
              "std        0.995411      0.812252      9015.467617        0.793566   \n",
              "min        0.000000      0.000000        24.000000        1.000000   \n",
              "25%        0.000000      0.000000      8000.000000        1.000000   \n",
              "50%        1.000000      0.000000     12000.000000        1.000000   \n",
              "75%        2.000000      1.000000     17000.000000        2.000000   \n",
              "max       10.000000      7.000000    250000.000000       11.000000   \n",
              "\n",
              "       LOAN_NUM_CLOSED  LOAN_DLQ_NUM        TARGET  \n",
              "count     15223.000000  15223.000000  15223.000000  \n",
              "mean          0.751889      0.195362      0.119030  \n",
              "std           0.988499      0.685022      0.323835  \n",
              "min           0.000000      0.000000      0.000000  \n",
              "25%           0.000000      0.000000      0.000000  \n",
              "50%           0.000000      0.000000      0.000000  \n",
              "75%           1.000000      0.000000      0.000000  \n",
              "max          11.000000     13.000000      1.000000  "
            ]
          },
          "execution_count": 5,
          "metadata": {},
          "output_type": "execute_result"
        }
      ],
      "source": [
        "data.describe()"
      ]
    },
    {
      "cell_type": "markdown",
      "metadata": {
        "id": "zGmfshG9rmBn"
      },
      "source": [
        "Обучим логистическую регрессию с параметрами по умолчанию."
      ]
    },
    {
      "cell_type": "code",
      "execution_count": 17,
      "metadata": {
        "id": "7tOX78zbrPHB"
      },
      "outputs": [],
      "source": [
        "from sklearn.linear_model import LogisticRegression\n",
        "\n",
        "lr = LogisticRegression()"
      ]
    },
    {
      "cell_type": "code",
      "execution_count": 18,
      "metadata": {
        "id": "gvNVW51Erzpm"
      },
      "outputs": [],
      "source": [
        "lr.fit(Xtrain, ytrain)\n",
        "\n",
        "prediction = lr.predict(Xtest)"
      ]
    },
    {
      "cell_type": "markdown",
      "metadata": {
        "id": "R8QvDicCUicz"
      },
      "source": [
        "Метрику accuracy не стоит использовать при сильном дисбалансе классов. Поэтому посчитайте f1_score для оценки качества модели на тестовых данных.\n",
        "\n",
        "f1_score принимает значения от 0 до 1. Чем ближе к 1, тем лучше модель."
      ]
    },
    {
      "cell_type": "code",
      "execution_count": 19,
      "metadata": {
        "id": "gxnxFzSxlfmQ"
      },
      "outputs": [
        {
          "data": {
            "text/plain": [
              "0.0"
            ]
          },
          "execution_count": 19,
          "metadata": {},
          "output_type": "execute_result"
        }
      ],
      "source": [
        "from sklearn.metrics import f1_score\n",
        "\n",
        "f1_score(ytest, prediction)"
      ]
    },
    {
      "cell_type": "markdown",
      "metadata": {
        "id": "czwpRRsHorHu"
      },
      "source": [
        "**Вопрос**  \n",
        "Чему равен `f1_score`?"
      ]
    },
    {
      "cell_type": "markdown",
      "metadata": {
        "id": "FF1I6KbTomdK"
      },
      "source": [
        "Удивительно, да?\n",
        "\n",
        "Давайте разберемся, почему качество такое низкое."
      ]
    },
    {
      "cell_type": "markdown",
      "metadata": {
        "id": "CvWGh7m9sTKM"
      },
      "source": [
        "Предскажем вероятности классов с помощью обученной логистической регрессии на тестовых данных."
      ]
    },
    {
      "cell_type": "code",
      "execution_count": 20,
      "metadata": {
        "id": "LNqjcxrwsLzl"
      },
      "outputs": [
        {
          "data": {
            "text/plain": [
              "array([[0.86331972, 0.13668028],\n",
              "       [0.86305957, 0.13694043],\n",
              "       [0.80967732, 0.19032268],\n",
              "       [0.73110167, 0.26889833],\n",
              "       [0.87780414, 0.12219586],\n",
              "       [0.96122864, 0.03877136],\n",
              "       [0.95965491, 0.04034509],\n",
              "       [0.96560659, 0.03439341],\n",
              "       [0.92114871, 0.07885129],\n",
              "       [0.9349701 , 0.0650299 ]])"
            ]
          },
          "execution_count": 20,
          "metadata": {},
          "output_type": "execute_result"
        }
      ],
      "source": [
        "probs_test = lr.predict_proba(Xtest)\n",
        "\n",
        "probs_test[:10]"
      ]
    },
    {
      "cell_type": "markdown",
      "metadata": {
        "id": "wmASiDk_pPfK"
      },
      "source": [
        "По вероятностям видно, что вероятности отнесения к положительному классу очень низкие.\n",
        "\n",
        "Попробуем изменить порог для перевода вероятности в классы."
      ]
    },
    {
      "cell_type": "markdown",
      "metadata": {
        "id": "vJYfPb5yp1N6"
      },
      "source": [
        "**Вопрос**  \n",
        "Чему равен `f1_score`, если все объекты с вероятностью не меньшей 0.1, относить к положительному классу?\n",
        "\n",
        "Ответ округлите до сотых."
      ]
    },
    {
      "cell_type": "code",
      "execution_count": 61,
      "metadata": {
        "id": "9A-GCeebqAdU"
      },
      "outputs": [
        {
          "name": "stdout",
          "output_type": "stream",
          "text": [
            "[0.13668028 0.13694043 0.19032268 ... 0.09132017 0.09727959 0.07518077]\n",
            "[1 1 1 ... 0 0 0]\n",
            "0.25\n"
          ]
        }
      ],
      "source": [
        "probs_test_1 = probs_test[:,1]\n",
        "print(probs_test_1)\n",
        "new_pred = np.array(list(map(lambda x: 1 if x >= 0.1 else 0, probs_test_1)))\n",
        "print(new_pred)\n",
        "\n",
        "print(round(f1_score(ytest, new_pred),2))"
      ]
    },
    {
      "cell_type": "markdown",
      "metadata": {
        "id": "lIKKWKCFVBh1"
      },
      "source": [
        "У обученной модели можно посмотреть веса (как и в линейной регрессии).  \n",
        "Выведем на экран веса модели (`model.coef_`, `model.intercept_`)."
      ]
    },
    {
      "cell_type": "code",
      "execution_count": 62,
      "metadata": {
        "id": "zZ6NmMGIVE_D"
      },
      "outputs": [
        {
          "data": {
            "text/plain": [
              "(array([[-5.55214705e-02, -7.90868782e-04, -4.28172545e-04,\n",
              "         -1.07248154e-03, -1.34958177e-03, -4.95807875e-04,\n",
              "          1.13131722e-05, -1.80011616e-03, -1.26843809e-03,\n",
              "         -1.45283567e-05]]),\n",
              " array([-0.00115086]))"
            ]
          },
          "execution_count": 62,
          "metadata": {},
          "output_type": "execute_result"
        }
      ],
      "source": [
        "lr.coef_, lr.intercept_"
      ]
    },
    {
      "cell_type": "markdown",
      "metadata": {
        "id": "OVnkivI5qOLH"
      },
      "source": [
        "Создайте `pd.DataFrame`, где в первом столбце стоят названия признаков, а во втором - их веса (так удобнее анализировать результат).  \n",
        "Отсортируйте таблицу по убыванию весов.\n",
        "\n",
        "**Вопрос**  \n",
        "Какой признак имеет наибольший положительный вес?"
      ]
    },
    {
      "cell_type": "code",
      "execution_count": 86,
      "metadata": {
        "id": "0IhVjQWnqUi2"
      },
      "outputs": [
        {
          "name": "stdout",
          "output_type": "stream",
          "text": [
            "['AGE', 'SOCSTATUS_WORK_FL', 'SOCSTATUS_PENS_FL', 'GENDER', 'CHILD_TOTAL', 'DEPENDANTS', 'PERSONAL_INCOME', 'LOAN_NUM_TOTAL', 'LOAN_NUM_CLOSED', 'LOAN_DLQ_NUM']\n",
            "10\n",
            "[-0.05552147051932881, -0.0007908687815780321, -0.00042817254510100827, -0.0010724815421906185, -0.0013495817666406645, -0.0004958078745643626, 1.1313172190486572e-05, -0.0018001161554912857, -0.0012684380861596896, -1.4528356736766587e-05]\n",
            "10\n",
            "            features     coefs\n",
            "6    PERSONAL_INCOME  0.000011\n",
            "9       LOAN_DLQ_NUM -0.000015\n",
            "2  SOCSTATUS_PENS_FL -0.000428\n",
            "5         DEPENDANTS -0.000496\n",
            "1  SOCSTATUS_WORK_FL -0.000791\n",
            "3             GENDER -0.001072\n",
            "8    LOAN_NUM_CLOSED -0.001268\n",
            "4        CHILD_TOTAL -0.001350\n",
            "7     LOAN_NUM_TOTAL -0.001800\n",
            "0                AGE -0.055521\n"
          ]
        }
      ],
      "source": [
        "features = list(Xtest.columns.values) # нужны только листы, чтобы закидывать в датафрейм\n",
        "print(features)\n",
        "print(len(features))\n",
        "coefs = list(lr.coef_[0,:]) # там список в списке ...\n",
        "print(coefs)\n",
        "print(len(coefs))\n",
        "X_and_w = pd.DataFrame({'features': features, 'coefs': coefs})\n",
        "X_and_w.sort_values('coefs', ascending=False, inplace=True)\n",
        "print(X_and_w)"
      ]
    },
    {
      "cell_type": "markdown",
      "metadata": {
        "id": "WNWrbhnLYFnZ"
      },
      "source": [
        "## Бонус"
      ]
    },
    {
      "cell_type": "markdown",
      "metadata": {
        "id": "dFsZU0ya2i70"
      },
      "source": [
        "**Задание 1**  \n",
        "Подберите порог для перевода вероятностей в классы, дающий максимальное значение `f1_score`."
      ]
    },
    {
      "cell_type": "code",
      "execution_count": 87,
      "metadata": {
        "id": "myf1uNxR2vJ6"
      },
      "outputs": [
        {
          "name": "stdout",
          "output_type": "stream",
          "text": [
            "Лучший порог: 0.1\n",
            "Максимальное значение f1_score: 0.2469521725539231\n"
          ]
        }
      ],
      "source": [
        "thresholds = np.arange(0, 1.1, 0.1)\n",
        "probabilities_test_1 = probs_test[:,1]\n",
        "f1_scores = []\n",
        "for threshold in thresholds:\n",
        "    probs_test_1 = probs_test[:,1]\n",
        "    new_pred = np.array(list(map(lambda x: 1 if x >= threshold else 0, probabilities_test_1)))\n",
        "    f1 = f1_score(ytest, new_pred)\n",
        "    f1_scores.append(f1)\n",
        "\n",
        "best_threshold = thresholds[np.argmax(f1_scores)]\n",
        "best_f1_score = max(f1_scores)\n",
        "\n",
        "print(\"Лучший порог:\", best_threshold)\n",
        "print(\"Максимальное значение f1_score:\", best_f1_score)\n"
      ]
    },
    {
      "cell_type": "markdown",
      "metadata": {
        "id": "rlW4fTH_2xU7"
      },
      "source": [
        "**Задание 2**  \n",
        "Во вложенном цикле подберите одновременно коэффициент регуляризации `C` у логистической регрессии и порог для перевода вероятностей в классы, дающие максимальное значение `f1_score`.\n",
        "\n",
        "По-хорошему, чтобы не переобучиться, эти величины надо подбирать не по тесту, а по отдельной выборке.\n",
        "\n",
        "Поэтому разобъем данные изначально на три части: `Xtrain`, `Xval`, `Xtest`.\n",
        "\n",
        "*   В цикле при подборе `С` и порога будем обучаться по `Xtrain`, а предсказывать и измерять качество по `Xval`.\n",
        "\n",
        "*   Качество итоговой модели с найденными `C` и порогом измерьте по `Xtest`.\n",
        "\n",
        "Так не переобучимся!\n"
      ]
    },
    {
      "cell_type": "code",
      "execution_count": 104,
      "metadata": {
        "id": "euwCnWE_3Gke"
      },
      "outputs": [],
      "source": [
        "Xtrain_new, Xval, ytrain_new, yval = train_test_split(Xtrain, ytrain, train_size=0.7, random_state=123)\n",
        "\n",
        "# ваш код для подбора C и порога здесь\n",
        "\n",
        "best_f1_score = 0\n",
        "best_C = None\n",
        "best_threshold = None\n",
        "\n",
        "# Перебор разных значений C и порогов на валидационном наборе\n",
        "thresholds = np.arange(0, 1.1, 0.1)\n",
        "\n",
        "for C in np.arange(0.1, 100.1, 0.5):  # Разные значения коэффициента регуляризации C\n",
        "    model = LogisticRegression(C=C)\n",
        "    model.fit(Xtrain_new, ytrain_new)\n",
        "    probs_test = model.predict_proba(Xval)\n",
        "    for threshold in thresholds:\n",
        "        probs_test_1 = probs_test[:,1]\n",
        "        predicted_labels = np.array(list(map(lambda x: 1 if x >= threshold else 0, probs_test_1)))\n",
        "        f1 = f1_score(yval, predicted_labels)\n",
        "        \n",
        "        if f1 > best_f1_score:\n",
        "            best_f1_score = f1\n",
        "            best_C = C\n",
        "            best_threshold = threshold\n"
      ]
    },
    {
      "cell_type": "code",
      "execution_count": 105,
      "metadata": {
        "id": "AVvUBwZ64Cbd"
      },
      "outputs": [
        {
          "name": "stdout",
          "output_type": "stream",
          "text": [
            "[0 0 0 ... 0 0 0]\n"
          ]
        }
      ],
      "source": [
        "model = LogisticRegression(C = best_C)\n",
        "\n",
        "model.fit(Xtrain, ytrain) # обучаемся на всех тренировочных данных\n",
        "\n",
        "prediction = model.predict_proba(Xtest)\n",
        "probs_test_1 = prediction[:,1]\n",
        "predicted_labels = np.array(list(map(lambda x: 1 if x >= threshold else 0, probs_test_1)))\n",
        "classes = predicted_labels # переведите полученные вероятности в классы по найденному порогу\n",
        "print(classes)"
      ]
    },
    {
      "cell_type": "code",
      "execution_count": 106,
      "metadata": {
        "id": "iMhzejf94XKp"
      },
      "outputs": [
        {
          "name": "stdout",
          "output_type": "stream",
          "text": [
            "Лучший порог: 0.1\n",
            "Лучшее значение C: 0.1\n",
            "Максимальное значение f1_score на валидационном наборе: 0.2270127584689837\n",
            "f1_score на тестовом наборе с лучшими параметрами: 0.0\n"
          ]
        }
      ],
      "source": [
        "# вычислите значение f1_score на тестовых данных\n",
        "f1_test = f1_score(ytest, classes)\n",
        "print(\"Лучший порог:\", best_threshold)\n",
        "print(\"Лучшее значение C:\", best_C)\n",
        "print(\"Максимальное значение f1_score на валидационном наборе:\", best_f1_score)\n",
        "print(\"f1_score на тестовом наборе с лучшими параметрами:\", f1_test)"
      ]
    }
  ],
  "metadata": {
    "colab": {
      "provenance": []
    },
    "kernelspec": {
      "display_name": "Python 3",
      "name": "python3"
    },
    "language_info": {
      "codemirror_mode": {
        "name": "ipython",
        "version": 3
      },
      "file_extension": ".py",
      "mimetype": "text/x-python",
      "name": "python",
      "nbconvert_exporter": "python",
      "pygments_lexer": "ipython3",
      "version": "3.10.12"
    }
  },
  "nbformat": 4,
  "nbformat_minor": 0
}
