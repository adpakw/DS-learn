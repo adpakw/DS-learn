{
 "cells": [
  {
   "cell_type": "markdown",
   "metadata": {
    "id": "2rIeJvNmzPJy"
   },
   "source": [
    "# Градиентный спуск. Практика"
   ]
  },
  {
   "cell_type": "markdown",
   "metadata": {
    "id": "krXvdp0bzfJK"
   },
   "source": [
    "## Импорт библиотек, установка константных значений"
   ]
  },
  {
   "cell_type": "code",
   "execution_count": 2,
   "metadata": {
    "id": "X6AuQbUpziB8"
   },
   "outputs": [],
   "source": [
    "import pandas as pd\n",
    "import numpy as np\n",
    "\n",
    "from sklearn.datasets import make_regression, fetch_california_housing\n",
    "from sklearn.metrics import r2_score\n",
    "from sklearn.model_selection import train_test_split"
   ]
  },
  {
   "cell_type": "code",
   "execution_count": 3,
   "metadata": {
    "id": "47ZRimlw6TEp"
   },
   "outputs": [],
   "source": [
    "RANDOM_STATE = 123\n",
    "TRAIN_SIZE = 0.75"
   ]
  },
  {
   "cell_type": "code",
   "execution_count": 4,
   "metadata": {
    "colab": {
     "base_uri": "https://localhost:8080/"
    },
    "id": "as1sEBKJt_Yb",
    "outputId": "d428934e-8a13-457b-c5dc-b26349c25dd1"
   },
   "outputs": [
    {
     "data": {
      "text/plain": [
       "RandomState(MT19937) at 0x7F9E5A38FA40"
      ]
     },
     "execution_count": 4,
     "metadata": {},
     "output_type": "execute_result"
    }
   ],
   "source": [
    "np.random.RandomState(RANDOM_STATE)"
   ]
  },
  {
   "cell_type": "code",
   "execution_count": 5,
   "metadata": {
    "id": "S6nTuMqGGqp2"
   },
   "outputs": [],
   "source": [
    "np.random.seed(RANDOM_STATE)\n",
    "\n",
    "X, y, _ = make_regression(\n",
    "    n_samples=100000,  # число объектов\n",
    "    n_features=10,  # число признаков\n",
    "    n_informative=8,  # число информативных признаков\n",
    "    noise=100,  # уровень шума в данных\n",
    "    coef=True,  # значение True используется при генерации данных\n",
    "    random_state=RANDOM_STATE,\n",
    ")\n",
    "\n",
    "X = pd.DataFrame(data=X, columns=np.arange(0, X.shape[1]))\n",
    "X[10] = X[6] + X[7] + np.random.random() * 0.01"
   ]
  },
  {
   "cell_type": "markdown",
   "metadata": {
    "id": "lm6_Ln0GoliG"
   },
   "source": [
    "\n",
    "Напишите функцию, вычисляющую значение весов в линейной регрессии по точной (аналитически найденной) формуле:\n",
    "\n",
    "$$w = (X^TX)^{-1}X^Ty$$\n",
    "\n",
    "Комментарий: для поиска решения в векторном виде сначала необходимо добавить единичный столбец к матрице $X$.\n",
    "Это сделано в коде."
   ]
  },
  {
   "cell_type": "code",
   "execution_count": 16,
   "metadata": {
    "id": "ZrVvpU9miOga"
   },
   "outputs": [],
   "source": [
    "def ols_solution(X, y):\n",
    "    X = np.hstack((np.ones((X.shape[0], 1)), X))\n",
    "    return np.linalg.inv(X.T @ X) @ (X.T @ y)"
   ]
  },
  {
   "cell_type": "markdown",
   "metadata": {
    "id": "AMBKhU7Zhaev"
   },
   "source": [
    "Заполните функцию для предсказания модели по формуле\n",
    "$$a(X)=Xw$$"
   ]
  },
  {
   "cell_type": "code",
   "execution_count": 17,
   "metadata": {
    "id": "CI63O1eUhmyx"
   },
   "outputs": [],
   "source": [
    "def prediction(X, w):\n",
    "    X = np.hstack((np.ones((X.shape[0], 1)), X))\n",
    "    return X @ w"
   ]
  },
  {
   "cell_type": "markdown",
   "metadata": {
    "id": "OaPciXsEmznh"
   },
   "source": [
    "Продублируем функцию для вычисления значения MSE из урока"
   ]
  },
  {
   "cell_type": "code",
   "execution_count": 8,
   "metadata": {
    "id": "PqzBobT-m28D"
   },
   "outputs": [],
   "source": [
    "def compute_cost(X, y, theta):\n",
    "    m = len(y)\n",
    "    cost = (1.0 / m) * (np.linalg.norm(X @ theta - y) ** 2)\n",
    "    return cost"
   ]
  },
  {
   "cell_type": "markdown",
   "metadata": {
    "id": "VFANmcnV5DWz"
   },
   "source": [
    "Скопируйте метод градиентного спуска из [урока](https://colab.research.google.com/drive/1Bos0LeQP9AAB-nrS0z8b-8ag5xRSEdty?usp=sharing) в этот ноутбук.\n"
   ]
  },
  {
   "cell_type": "code",
   "execution_count": 9,
   "metadata": {
    "id": "VB9oE8Sg1WG9"
   },
   "outputs": [],
   "source": [
    "def gradient_descent(X, y, learning_rate, iterations):\n",
    "    X = np.hstack((np.ones((X.shape[0], 1)), X))  # добавляем к Х столбец из 1\n",
    "    params = np.random.rand(X.shape[1])\n",
    "\n",
    "    m = X.shape[0]\n",
    "\n",
    "    cost_track = np.zeros((iterations, 1))\n",
    "\n",
    "    for i in range(iterations):\n",
    "        params = params - 2.0 / m * learning_rate * (X.T @ ((X @ params) - y))\n",
    "        cost_track[i] = compute_cost(X, y, params)\n",
    "\n",
    "    return cost_track, params"
   ]
  },
  {
   "cell_type": "markdown",
   "metadata": {
    "id": "X_3A_UGWztbY"
   },
   "source": [
    "### Бонус для отважных"
   ]
  },
  {
   "cell_type": "markdown",
   "metadata": {
    "id": "GMujXdy75Lb2"
   },
   "source": [
    "Если чувствуете в себе силы, попробуйте написать SGD сами."
   ]
  },
  {
   "cell_type": "markdown",
   "metadata": {
    "id": "_shCsTQ1pVcU"
   },
   "source": [
    "Модифицируйте метод градиентного спуска из урока так, чтобы это теперь был метод стохастического градиентного спуска:\n",
    "\n",
    "* на каждой итерации выбирайте один случайный индекс `j` при помощи функции `random.randint`\n",
    "\n",
    "* градиент на каждой итерации градиентного спуска считайте не как сумму градиентов по всем объектам, а только по одному объекту с индексом `j`\n",
    "\n",
    "* на каждой итерации вычисляйте значение функции потерь и сохраняйте в список `cost_track`, который верните вместе с результатом работы функции"
   ]
  },
  {
   "cell_type": "code",
   "execution_count": 37,
   "metadata": {
    "id": "fTZWxz1zpb9R"
   },
   "outputs": [],
   "source": [
    "import random\n",
    "\n",
    "\n",
    "def stochastic_gradient_descent(X, y, learning_rate, iterations):\n",
    "    X = np.hstack((np.ones((X.shape[0], 1)), X))\n",
    "    params = np.random.rand(X.shape[1])\n",
    "\n",
    "    j = 0\n",
    "\n",
    "    cost_track = np.zeros((iterations, 1))\n",
    "\n",
    "    for i in range(iterations):\n",
    "        # выберите случайный индекс в диапазон от 0 до len(X)-1 включительно при помощи функции random.randint\n",
    "        j = random.randint(0, len(X) - 1)\n",
    "\n",
    "        # обновите веса, используя сдвиг по градиенту только по объекту X[j] (делить на m в данном случае не нужно)\n",
    "        params = params - 2.0 / len(X) * learning_rate * (\n",
    "            X[j].T * ((X[j] @ params) - y[j])\n",
    "        )\n",
    "        cost_track[i] = compute_cost(X, y, params)\n",
    "\n",
    "    return cost_track, params"
   ]
  },
  {
   "cell_type": "markdown",
   "metadata": {
    "id": "WnRlUa9Npi9o"
   },
   "source": [
    "- Обучите линейную регрессию тремя методами (по точной формуле, с помощью GD и с помощью SGD) на данных для задачи регрессии ($X, y$). Для GD и самостоятельно написанного SGD используйте `learning_rate = 0.01, iterations = 10000`.\n",
    "\n",
    "*P.S. Если же вы используете не самописный SGD, а SGDRegressor из библиотеки sklearn.linear_model, то его объявляйте с гиперпараметрами по умолчанию, то есть в скобках при объявлении модели ничего не указывайте.*\n",
    "\n",
    "- С помощью каждого метода сделайте предсказание (на всех данных), вычислите качество предсказания r2 (`from sklearn.metrics import r2_score`). Для получения предсказания использовуйте функцию `predict`.\n"
   ]
  },
  {
   "cell_type": "code",
   "execution_count": null,
   "metadata": {
    "id": "2TkO2mh5ky0m"
   },
   "outputs": [],
   "source": [
    "# **План**\n",
    "\n",
    "# 1 - находим веса одним из методов\n",
    "\n",
    "# 2 - применяем функцию prediction для получения предсказаний с найденными весами (либо predict в случае использования SGDRegressor из библиотеки sklearn)\n",
    "\n",
    "# 3 - вычисляем значение метрики r2"
   ]
  },
  {
   "cell_type": "code",
   "execution_count": 10,
   "metadata": {
    "id": "zer-Ar_ekU7q"
   },
   "outputs": [],
   "source": [
    "from sklearn.metrics import r2_score"
   ]
  },
  {
   "cell_type": "code",
   "execution_count": 61,
   "metadata": {
    "id": "5cVilZVsmAys"
   },
   "outputs": [
    {
     "name": "stdout",
     "output_type": "stream",
     "text": [
      "0.7545142785214091\n",
      "CPU times: user 62.5 ms, sys: 156 ms, total: 219 ms\n",
      "Wall time: 42.2 ms\n"
     ]
    }
   ],
   "source": [
    "%%time\n",
    "print(r2_score(y, prediction(X, ols_solution(X, y))))"
   ]
  },
  {
   "cell_type": "markdown",
   "metadata": {
    "id": "ezvQOKaEkaLX"
   },
   "source": [
    "## Quiz\n",
    "\n",
    "Чему равно значение метрики $R^2$ для аналитического подхода?\n",
    "\n",
    "Ответ округлите до сотых."
   ]
  },
  {
   "cell_type": "code",
   "execution_count": 30,
   "metadata": {
    "id": "O_MDhoXs5tkd"
   },
   "outputs": [
    {
     "name": "stdout",
     "output_type": "stream",
     "text": [
      "0.7545142785214091\n"
     ]
    }
   ],
   "source": [
    "print(r2_score(y, prediction(X, ols_solution(X, y))))"
   ]
  },
  {
   "cell_type": "markdown",
   "metadata": {
    "id": "HaasnKmj2Eje"
   },
   "source": [
    "## Quiz\n",
    "\n",
    "Нарисуйте траекторию уменьшения ошибки при обучении градиентного спуска (это параметр `cost_track`, возвращаемый функцией).\n",
    "\n",
    "Чему приблизительно равен loss модели на последних итерациях?\n",
    "\n",
    "Выберите наиболее близкий к полученному вами ответ."
   ]
  },
  {
   "cell_type": "code",
   "execution_count": 56,
   "metadata": {
    "id": "CNTHJzS22QeT"
   },
   "outputs": [
    {
     "name": "stdout",
     "output_type": "stream",
     "text": [
      "[[37823.71826921]\n",
      " [35809.73965511]\n",
      " [33981.61845456]\n",
      " ...\n",
      " [ 9982.20353127]\n",
      " [ 9982.20353127]\n",
      " [ 9982.20353127]] [-0.91044256 56.82455793 33.48291813 -0.24065452 39.64529367 -0.13585617\n",
      " 49.12295947 13.85352141 42.82921217 79.20386231 42.4712069  55.79084759]\n",
      "CPU times: user 1min 29s, sys: 1min 21s, total: 2min 50s\n",
      "Wall time: 17.2 s\n"
     ]
    },
    {
     "data": {
      "text/plain": [
       "[<matplotlib.lines.Line2D at 0x7f9e119e9420>]"
      ]
     },
     "execution_count": 56,
     "metadata": {},
     "output_type": "execute_result"
    },
    {
     "data": {
      "image/png": "[encoded data removed]",
      "text/plain": [
       "<Figure size 640x480 with 1 Axes>"
      ]
     },
     "metadata": {},
     "output_type": "display_data"
    }
   ],
   "source": [
    "%%time\n",
    "# your code here\n",
    "import matplotlib.pyplot as plt\n",
    "cost_track, params = gradient_descent(X, y, learning_rate=0.01, iterations=10000)\n",
    "print(cost_track, params)\n",
    "plt.plot(cost_track)"
   ]
  },
  {
   "cell_type": "code",
   "execution_count": 55,
   "metadata": {
    "id": "6yLEdtQOmCYL"
   },
   "outputs": [
    {
     "name": "stdout",
     "output_type": "stream",
     "text": [
      "[[40347.41024157]\n",
      " [40347.34669948]\n",
      " [40347.32689686]\n",
      " ...\n",
      " [40116.11366909]\n",
      " [40116.10382382]\n",
      " [40116.09070601]] [0.05051825 0.35336419 0.17476472 0.2455011  0.88644379 0.8928028\n",
      " 0.13623415 0.44457676 1.17124544 0.69682645 0.70827025 0.33886071]\n",
      "CPU times: user 31.5 s, sys: 33 s, total: 1min 4s\n",
      "Wall time: 6.58 s\n"
     ]
    }
   ],
   "source": [
    "%%time\n",
    "# your code for SGD here\n",
    "cost_track, params = stochastic_gradient_descent(\n",
    "    X, y, learning_rate=0.01, iterations=10000\n",
    ")\n",
    "\n",
    "print(cost_track, params)"
   ]
  },
  {
   "cell_type": "markdown",
   "metadata": {
    "id": "hE7jBuyWkePj"
   },
   "source": [
    "## Quiz\n",
    "\n",
    "Измерьте время работы аналитического подхода, а также GD и SGD (используйте magic command [`%%time`](https://ipython.readthedocs.io/en/stable/interactive/magics.html)).\n",
    "\n",
    "Упорядочите результаты по возрастанию."
   ]
  },
  {
   "cell_type": "markdown",
   "metadata": {
    "id": "7Lne3c3I1swS"
   },
   "source": [
    "## Тестирование моделей на реальных данных\n",
    "\n",
    "В реальных задачах никто не пишет методы с нуля, если они уже реализованы в python. Самостоятельная реализация методов полезна для получения навыков программирования и более глубокого понимания алгоритмов.\n",
    "\n",
    "Давайте применим уже готовые методы из `sklearn` для решения задачи регрессии."
   ]
  },
  {
   "cell_type": "code",
   "execution_count": 62,
   "metadata": {
    "id": "qUhkRgYm1usp"
   },
   "outputs": [],
   "source": [
    "data = fetch_california_housing(as_frame=True)\n",
    "\n",
    "X = data.data\n",
    "y = data.target"
   ]
  },
  {
   "cell_type": "markdown",
   "metadata": {
    "id": "BlsxS_mb18A8"
   },
   "source": [
    "Разобъем данные на трейн и тест"
   ]
  },
  {
   "cell_type": "code",
   "execution_count": 63,
   "metadata": {
    "id": "tKKC-nWE13ek"
   },
   "outputs": [],
   "source": [
    "X_train, X_test, y_train, y_test = train_test_split(\n",
    "    X, y, train_size=TRAIN_SIZE, random_state=RANDOM_STATE\n",
    ")"
   ]
  },
  {
   "cell_type": "markdown",
   "metadata": {
    "id": "1nxiq6Uq2K47"
   },
   "source": [
    "Для решения этой задачи попробуйте следующие модели:\n",
    "\n",
    "* `LinearRegression` из `sklearn`\n",
    "* `SGDRegressor` из `sklearn`\n",
    "\n",
    "Обучите модели на тренировочных данных с параметрами по умолчанию и сделайте предсказание на тесте.\n",
    "Вычислите значение $R^2$"
   ]
  },
  {
   "cell_type": "code",
   "execution_count": 64,
   "metadata": {
    "id": "PdoNyLJy165x"
   },
   "outputs": [
    {
     "name": "stdout",
     "output_type": "stream",
     "text": [
      "0.6078944086580235\n"
     ]
    }
   ],
   "source": [
    "from sklearn.linear_model import LinearRegression\n",
    "\n",
    "lin_reg = LinearRegression()\n",
    "lin_reg.fit(X_train, y_train)\n",
    "\n",
    "pred_lin_reg = lin_reg.predict(X_test)\n",
    "\n",
    "print(r2_score(y_test, pred_lin_reg))"
   ]
  },
  {
   "cell_type": "markdown",
   "metadata": {
    "id": "hq6lwN9ZmNgL"
   },
   "source": [
    "## Quiz\n",
    "\n",
    "Чему равно значение $R^2$ для модели LinearRegression на тестовых данных?\n",
    "\n",
    "Ответ округлите до сотых."
   ]
  },
  {
   "cell_type": "code",
   "execution_count": 78,
   "metadata": {
    "id": "atfZE2L0mNwz"
   },
   "outputs": [
    {
     "name": "stdout",
     "output_type": "stream",
     "text": [
      "-6.515952230546718e+28\n"
     ]
    }
   ],
   "source": [
    "# ваш код здесь (SGD Regressor)\n",
    "from sklearn.linear_model import SGDRegressor\n",
    "\n",
    "sgd_reg = SGDRegressor(learning_rate='invscaling', eta0 = 0.01, max_iter=10000)\n",
    "sgd_reg.fit(X_train, y_train)\n",
    "\n",
    "pred_sgd_reg = sgd_reg.predict(X_test)\n",
    "\n",
    "print(r2_score(y_test, pred_sgd_reg))"
   ]
  },
  {
   "cell_type": "markdown",
   "metadata": {
    "id": "BH56-5XHl9qg"
   },
   "source": [
    "## Quiz\n",
    "\n",
    "Какая модель с параметрами по умолчанию лучше справилась с предсказанием стоимости домов в Калифорнии?\n",
    "\n",
    "---\n",
    "\n",
    "LinearRegression"
   ]
  },
  {
   "cell_type": "markdown",
   "metadata": {
    "id": "W2yCxAIL37e7"
   },
   "source": [
    "## Quiz\n",
    "\n",
    "Проинтерпретируйте качество метода SGDRegressor. Выберите наиболее подходящий вариант."
   ]
  },
  {
   "cell_type": "code",
   "execution_count": null,
   "metadata": {
    "id": "ce6Fbt_l6HAU"
   },
   "outputs": [],
   "source": [
    "#R^2 отрицательный и большой - метод расходится (не находит минимум функции потерь)"
   ]
  }
 ],
 "metadata": {
  "colab": {
   "provenance": []
  },
  "kernelspec": {
   "display_name": "Python 3",
   "name": "python3"
  },
  "language_info": {
   "codemirror_mode": {
    "name": "ipython",
    "version": 3
   },
   "file_extension": ".py",
   "mimetype": "text/x-python",
   "name": "python",
   "nbconvert_exporter": "python",
   "pygments_lexer": "ipython3",
   "version": "3.10.12"
  }
 },
 "nbformat": 4,
 "nbformat_minor": 0
}
